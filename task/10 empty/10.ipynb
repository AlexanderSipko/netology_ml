{
  "cells": [
    {
      "cell_type": "code",
      "execution_count": 88,
      "metadata": {},
      "outputs": [],
      "source": [
        "# импорт библиотек\n",
        "import pandas as pd\n",
        "import numpy as np\n",
        "import matplotlib.pyplot as plt\n",
        "import seaborn as sns\n",
        "from sklearn.datasets import fetch_california_housing\n",
        "from sklearn.model_selection import train_test_split\n",
        "from sklearn.ensemble import RandomForestClassifier \n",
        "%matplotlib inline\n",
        "import warnings\n",
        "warnings.filterwarnings(\"ignore\", \"is_categorical_dtype\")\n",
        "warnings.filterwarnings(\"ignore\", \"use_inf_as_na\")\n",
        "housing = fetch_california_housing()\n"
      ]
    },
    {
      "cell_type": "markdown",
      "metadata": {
        "id": "Rgwz8x0HBnlY"
      },
      "source": [
        "# 10 Поиск выбросов и генерация новых признаков"
      ]
    },
    {
      "cell_type": "code",
      "execution_count": 89,
      "metadata": {},
      "outputs": [],
      "source": [
        "df = pd.read_csv('../../src/glass.csv')"
      ]
    },
    {
      "cell_type": "code",
      "execution_count": 90,
      "metadata": {},
      "outputs": [
        {
          "data": {
            "text/html": [
              "<div>\n",
              "<style scoped>\n",
              "    .dataframe tbody tr th:only-of-type {\n",
              "        vertical-align: middle;\n",
              "    }\n",
              "\n",
              "    .dataframe tbody tr th {\n",
              "        vertical-align: top;\n",
              "    }\n",
              "\n",
              "    .dataframe thead th {\n",
              "        text-align: right;\n",
              "    }\n",
              "</style>\n",
              "<table border=\"1\" class=\"dataframe\">\n",
              "  <thead>\n",
              "    <tr style=\"text-align: right;\">\n",
              "      <th></th>\n",
              "      <th>RI</th>\n",
              "      <th>Na</th>\n",
              "      <th>Mg</th>\n",
              "      <th>Al</th>\n",
              "      <th>Si</th>\n",
              "      <th>K</th>\n",
              "      <th>Ca</th>\n",
              "      <th>Ba</th>\n",
              "      <th>Fe</th>\n",
              "      <th>Type</th>\n",
              "    </tr>\n",
              "  </thead>\n",
              "  <tbody>\n",
              "    <tr>\n",
              "      <th>count</th>\n",
              "      <td>214.000000</td>\n",
              "      <td>214.000000</td>\n",
              "      <td>214.000000</td>\n",
              "      <td>214.000000</td>\n",
              "      <td>214.000000</td>\n",
              "      <td>214.000000</td>\n",
              "      <td>214.000000</td>\n",
              "      <td>214.000000</td>\n",
              "      <td>214.000000</td>\n",
              "      <td>214.000000</td>\n",
              "    </tr>\n",
              "    <tr>\n",
              "      <th>mean</th>\n",
              "      <td>1.518365</td>\n",
              "      <td>13.407850</td>\n",
              "      <td>2.684533</td>\n",
              "      <td>1.444907</td>\n",
              "      <td>72.650935</td>\n",
              "      <td>0.497056</td>\n",
              "      <td>8.956963</td>\n",
              "      <td>0.175047</td>\n",
              "      <td>0.057009</td>\n",
              "      <td>2.780374</td>\n",
              "    </tr>\n",
              "    <tr>\n",
              "      <th>std</th>\n",
              "      <td>0.003037</td>\n",
              "      <td>0.816604</td>\n",
              "      <td>1.442408</td>\n",
              "      <td>0.499270</td>\n",
              "      <td>0.774546</td>\n",
              "      <td>0.652192</td>\n",
              "      <td>1.423153</td>\n",
              "      <td>0.497219</td>\n",
              "      <td>0.097439</td>\n",
              "      <td>2.103739</td>\n",
              "    </tr>\n",
              "    <tr>\n",
              "      <th>min</th>\n",
              "      <td>1.511150</td>\n",
              "      <td>10.730000</td>\n",
              "      <td>0.000000</td>\n",
              "      <td>0.290000</td>\n",
              "      <td>69.810000</td>\n",
              "      <td>0.000000</td>\n",
              "      <td>5.430000</td>\n",
              "      <td>0.000000</td>\n",
              "      <td>0.000000</td>\n",
              "      <td>1.000000</td>\n",
              "    </tr>\n",
              "    <tr>\n",
              "      <th>25%</th>\n",
              "      <td>1.516522</td>\n",
              "      <td>12.907500</td>\n",
              "      <td>2.115000</td>\n",
              "      <td>1.190000</td>\n",
              "      <td>72.280000</td>\n",
              "      <td>0.122500</td>\n",
              "      <td>8.240000</td>\n",
              "      <td>0.000000</td>\n",
              "      <td>0.000000</td>\n",
              "      <td>1.000000</td>\n",
              "    </tr>\n",
              "    <tr>\n",
              "      <th>50%</th>\n",
              "      <td>1.517680</td>\n",
              "      <td>13.300000</td>\n",
              "      <td>3.480000</td>\n",
              "      <td>1.360000</td>\n",
              "      <td>72.790000</td>\n",
              "      <td>0.555000</td>\n",
              "      <td>8.600000</td>\n",
              "      <td>0.000000</td>\n",
              "      <td>0.000000</td>\n",
              "      <td>2.000000</td>\n",
              "    </tr>\n",
              "    <tr>\n",
              "      <th>75%</th>\n",
              "      <td>1.519157</td>\n",
              "      <td>13.825000</td>\n",
              "      <td>3.600000</td>\n",
              "      <td>1.630000</td>\n",
              "      <td>73.087500</td>\n",
              "      <td>0.610000</td>\n",
              "      <td>9.172500</td>\n",
              "      <td>0.000000</td>\n",
              "      <td>0.100000</td>\n",
              "      <td>3.000000</td>\n",
              "    </tr>\n",
              "    <tr>\n",
              "      <th>max</th>\n",
              "      <td>1.533930</td>\n",
              "      <td>17.380000</td>\n",
              "      <td>4.490000</td>\n",
              "      <td>3.500000</td>\n",
              "      <td>75.410000</td>\n",
              "      <td>6.210000</td>\n",
              "      <td>16.190000</td>\n",
              "      <td>3.150000</td>\n",
              "      <td>0.510000</td>\n",
              "      <td>7.000000</td>\n",
              "    </tr>\n",
              "  </tbody>\n",
              "</table>\n",
              "</div>"
            ],
            "text/plain": [
              "               RI          Na          Mg          Al          Si           K  \\\n",
              "count  214.000000  214.000000  214.000000  214.000000  214.000000  214.000000   \n",
              "mean     1.518365   13.407850    2.684533    1.444907   72.650935    0.497056   \n",
              "std      0.003037    0.816604    1.442408    0.499270    0.774546    0.652192   \n",
              "min      1.511150   10.730000    0.000000    0.290000   69.810000    0.000000   \n",
              "25%      1.516522   12.907500    2.115000    1.190000   72.280000    0.122500   \n",
              "50%      1.517680   13.300000    3.480000    1.360000   72.790000    0.555000   \n",
              "75%      1.519157   13.825000    3.600000    1.630000   73.087500    0.610000   \n",
              "max      1.533930   17.380000    4.490000    3.500000   75.410000    6.210000   \n",
              "\n",
              "               Ca          Ba          Fe        Type  \n",
              "count  214.000000  214.000000  214.000000  214.000000  \n",
              "mean     8.956963    0.175047    0.057009    2.780374  \n",
              "std      1.423153    0.497219    0.097439    2.103739  \n",
              "min      5.430000    0.000000    0.000000    1.000000  \n",
              "25%      8.240000    0.000000    0.000000    1.000000  \n",
              "50%      8.600000    0.000000    0.000000    2.000000  \n",
              "75%      9.172500    0.000000    0.100000    3.000000  \n",
              "max     16.190000    3.150000    0.510000    7.000000  "
            ]
          },
          "execution_count": 90,
          "metadata": {},
          "output_type": "execute_result"
        }
      ],
      "source": [
        "df.describe()"
      ]
    },
    {
      "cell_type": "code",
      "execution_count": 91,
      "metadata": {},
      "outputs": [],
      "source": [
        "for col in df.columns:\n",
        "    if df[col].isnull().sum():\n",
        "        raise print(f\"из None column {col}\", df[col].isnull().sum())"
      ]
    },
    {
      "cell_type": "code",
      "execution_count": 92,
      "metadata": {},
      "outputs": [
        {
          "data": {
            "text/plain": [
              "Type\n",
              "2    76\n",
              "1    70\n",
              "7    29\n",
              "3    17\n",
              "5    13\n",
              "6     9\n",
              "Name: count, dtype: int64"
            ]
          },
          "execution_count": 92,
          "metadata": {},
          "output_type": "execute_result"
        }
      ],
      "source": [
        "df['Type'].value_counts()"
      ]
    },
    {
      "cell_type": "markdown",
      "metadata": {},
      "source": [
        "### Разделение выборки `20` `80`"
      ]
    },
    {
      "cell_type": "code",
      "execution_count": 93,
      "metadata": {},
      "outputs": [
        {
          "name": "stdout",
          "output_type": "stream",
          "text": [
            "(171, 9) (43, 9)\n",
            "(171,) (43,)\n"
          ]
        }
      ],
      "source": [
        "futures = ['RI', 'Na', 'Mg', 'Al', 'Si', 'K', 'Ca', 'Ba', 'Fe']\n",
        "\n",
        "X = df[futures]\n",
        "y = df['Type']\n",
        "X_train, X_test, y_train, y_test=train_test_split(X,y,test_size=0.20, random_state=42)\n",
        "print(X_train.shape, X_test.shape)\n",
        "print(y_train.shape, y_test.shape)"
      ]
    },
    {
      "cell_type": "markdown",
      "metadata": {},
      "source": [
        "### Обучение RandomForestClassifier без удаления выбросов и какой либо обработки"
      ]
    },
    {
      "cell_type": "code",
      "execution_count": 94,
      "metadata": {},
      "outputs": [
        {
          "name": "stdout",
          "output_type": "stream",
          "text": [
            "Глубина дерева: 5 | train_score: 0.91 test_score: 0.84 | delta: 0.08\n",
            "средний f-1 для 6 классов: 0.8 при этом для каждого он составляет\n"
          ]
        },
        {
          "data": {
            "text/plain": [
              "0    0.85\n",
              "1    0.79\n",
              "2    0.50\n",
              "3    0.67\n",
              "4    1.00\n",
              "5    1.00\n",
              "dtype: float64"
            ]
          },
          "execution_count": 94,
          "metadata": {},
          "output_type": "execute_result"
        }
      ],
      "source": [
        "from sklearn.metrics import f1_score\n",
        "\n",
        "rFC = RandomForestClassifier(n_estimators=1500, max_depth=5, random_state=0)\n",
        "rFC.fit(X_train, y_train)\n",
        "train_score = rFC.score(X_train, y_train)\n",
        "test_score = rFC.score(X_test, y_test)\n",
        "print(f\"Глубина дерева: {5} | train_score: {train_score:.2f} test_score: {test_score:.2f} | delta: {(train_score - test_score):.2f}\")\n",
        "\n",
        "y_test_pred = rFC.predict(X_test)\n",
        "f_1 = f1_score(y_test_pred, y_test, average=None)\n",
        "count_class, f_1_, f_1_mean = len(f_1), [round(f, 2) for f in f_1], round(f_1.mean(), 2)\n",
        "print(f\"средний f-1 для {count_class} классов: {f_1_mean} при этом для каждого он составляет\")\n",
        "pd.Series(f_1).apply(lambda x: round(x, 2))"
      ]
    },
    {
      "cell_type": "markdown",
      "metadata": {},
      "source": [
        "### Обработка выбросов"
      ]
    },
    {
      "cell_type": "code",
      "execution_count": 95,
      "metadata": {},
      "outputs": [
        {
          "data": {
            "text/plain": [
              "Text(0.5, 1.0, 'График выбросов')"
            ]
          },
          "execution_count": 95,
          "metadata": {},
          "output_type": "execute_result"
        },
        {
          "data": {
            "image/png": "[encoded data removed]",
            "text/plain": [
              "<Figure size 1000x500 with 1 Axes>"
            ]
          },
          "metadata": {},
          "output_type": "display_data"
        }
      ],
      "source": [
        "fig, axes = plt.subplots(nrows=1, ncols=1, figsize=(10, 5))\n",
        "df[futures].boxplot(ax=axes).set_title(\"График выбросов\")"
      ]
    },
    {
      "cell_type": "markdown",
      "metadata": {},
      "source": [
        "#### Нормализация данных для более оптимальной оценки"
      ]
    },
    {
      "cell_type": "code",
      "execution_count": 96,
      "metadata": {},
      "outputs": [
        {
          "data": {
            "text/plain": [
              "Text(0.5, 1.0, 'График выбросов c использованием стандартизации данных')"
            ]
          },
          "execution_count": 96,
          "metadata": {},
          "output_type": "execute_result"
        },
        {
          "data": {
            "image/png": "[encoded data removed]",
            "text/plain": [
              "<Figure size 1000x500 with 1 Axes>"
            ]
          },
          "metadata": {},
          "output_type": "display_data"
        }
      ],
      "source": [
        "from sklearn.preprocessing import StandardScaler\n",
        "scaler = StandardScaler().fit(df[futures])\n",
        "fig, axes = plt.subplots(nrows=1, ncols=1, figsize=(10, 5))\n",
        "standard_df = pd.DataFrame(scaler.transform(df[futures]), columns=scaler.feature_names_in_)\n",
        "standard_df.boxplot(ax=axes).set_title(\"График выбросов c использованием стандартизации данных\")"
      ]
    },
    {
      "cell_type": "code",
      "execution_count": 97,
      "metadata": {},
      "outputs": [
        {
          "name": "stdout",
          "output_type": "stream",
          "text": [
            "0.06 % - удаленных строк с выбросами на основании усреднения данных\n"
          ]
        }
      ],
      "source": [
        "print(f\"{(len(X[abs(standard_df.RI) > 2]) / len(df)):.2f} % - удаленных строк с выбросами на основании усреднения данных\")"
      ]
    },
    {
      "cell_type": "markdown",
      "metadata": {},
      "source": [
        "#### Обучение на данных после стандартизации и выброс которых больше 2 по модулю"
      ]
    },
    {
      "cell_type": "code",
      "execution_count": 98,
      "metadata": {},
      "outputs": [
        {
          "name": "stdout",
          "output_type": "stream",
          "text": [
            "Глубина дерева: 5 | train_score_stand: 0.93 train_score: 0.86 test_score: 0.88 | delta: -0.02\n",
            "средний f-1 для 6 классов: 0.85 при этом для каждого он составляет\n"
          ]
        },
        {
          "data": {
            "text/plain": [
              "0    0.88\n",
              "1    0.85\n",
              "2    0.50\n",
              "3    0.89\n",
              "4    1.00\n",
              "5    1.00\n",
              "dtype: float64"
            ]
          },
          "execution_count": 98,
          "metadata": {},
          "output_type": "execute_result"
        }
      ],
      "source": [
        "X_train_stand, _, y_train_stand, _ =train_test_split(\n",
        "    X[abs(standard_df.RI) < 2],\n",
        "    y[abs(standard_df.RI) < 2],\n",
        "    test_size=0.20, random_state=42)\n",
        "rFC.fit(X_train_stand, y_train_stand)\n",
        "\n",
        "train_score_out = rFC.score(X_train_stand, y_train_stand)\n",
        "train_score = rFC.score(X_train, y_train)\n",
        "test_score = rFC.score(X_test, y_test)\n",
        "print(f\"Глубина дерева: {5} | train_score_stand: {train_score_out:.2f} train_score: {train_score:.2f} test_score: {test_score:.2f} | delta: {(train_score - test_score):.2f}\")\n",
        "\n",
        "y_test_pred = rFC.predict(X_test)\n",
        "f_1 = f1_score(y_test_pred, y_test, average=None)\n",
        "count_class, f_1_, f_1_mean = len(f_1), [round(f, 2) for f in f_1], round(f_1.mean(), 2)\n",
        "print(f\"средний f-1 для {count_class} классов: {f_1_mean} при этом для каждого он составляет\")\n",
        "pd.Series(f_1).apply(lambda x: round(x, 2))"
      ]
    },
    {
      "cell_type": "markdown",
      "metadata": {},
      "source": [
        "#### Метод удаления выбросов `DBSCAN` и обучение модели на очищенных данных"
      ]
    },
    {
      "cell_type": "code",
      "execution_count": 99,
      "metadata": {},
      "outputs": [
        {
          "data": {
            "text/html": [
              "<style>#sk-container-id-7 {color: black;}#sk-container-id-7 pre{padding: 0;}#sk-container-id-7 div.sk-toggleable {background-color: white;}#sk-container-id-7 label.sk-toggleable__label {cursor: pointer;display: block;width: 100%;margin-bottom: 0;padding: 0.3em;box-sizing: border-box;text-align: center;}#sk-container-id-7 label.sk-toggleable__label-arrow:before {content: \"▸\";float: left;margin-right: 0.25em;color: #696969;}#sk-container-id-7 label.sk-toggleable__label-arrow:hover:before {color: black;}#sk-container-id-7 div.sk-estimator:hover label.sk-toggleable__label-arrow:before {color: black;}#sk-container-id-7 div.sk-toggleable__content {max-height: 0;max-width: 0;overflow: hidden;text-align: left;background-color: #f0f8ff;}#sk-container-id-7 div.sk-toggleable__content pre {margin: 0.2em;color: black;border-radius: 0.25em;background-color: #f0f8ff;}#sk-container-id-7 input.sk-toggleable__control:checked~div.sk-toggleable__content {max-height: 200px;max-width: 100%;overflow: auto;}#sk-container-id-7 input.sk-toggleable__control:checked~label.sk-toggleable__label-arrow:before {content: \"▾\";}#sk-container-id-7 div.sk-estimator input.sk-toggleable__control:checked~label.sk-toggleable__label {background-color: #d4ebff;}#sk-container-id-7 div.sk-label input.sk-toggleable__control:checked~label.sk-toggleable__label {background-color: #d4ebff;}#sk-container-id-7 input.sk-hidden--visually {border: 0;clip: rect(1px 1px 1px 1px);clip: rect(1px, 1px, 1px, 1px);height: 1px;margin: -1px;overflow: hidden;padding: 0;position: absolute;width: 1px;}#sk-container-id-7 div.sk-estimator {font-family: monospace;background-color: #f0f8ff;border: 1px dotted black;border-radius: 0.25em;box-sizing: border-box;margin-bottom: 0.5em;}#sk-container-id-7 div.sk-estimator:hover {background-color: #d4ebff;}#sk-container-id-7 div.sk-parallel-item::after {content: \"\";width: 100%;border-bottom: 1px solid gray;flex-grow: 1;}#sk-container-id-7 div.sk-label:hover label.sk-toggleable__label {background-color: #d4ebff;}#sk-container-id-7 div.sk-serial::before {content: \"\";position: absolute;border-left: 1px solid gray;box-sizing: border-box;top: 0;bottom: 0;left: 50%;z-index: 0;}#sk-container-id-7 div.sk-serial {display: flex;flex-direction: column;align-items: center;background-color: white;padding-right: 0.2em;padding-left: 0.2em;position: relative;}#sk-container-id-7 div.sk-item {position: relative;z-index: 1;}#sk-container-id-7 div.sk-parallel {display: flex;align-items: stretch;justify-content: center;background-color: white;position: relative;}#sk-container-id-7 div.sk-item::before, #sk-container-id-7 div.sk-parallel-item::before {content: \"\";position: absolute;border-left: 1px solid gray;box-sizing: border-box;top: 0;bottom: 0;left: 50%;z-index: -1;}#sk-container-id-7 div.sk-parallel-item {display: flex;flex-direction: column;z-index: 1;position: relative;background-color: white;}#sk-container-id-7 div.sk-parallel-item:first-child::after {align-self: flex-end;width: 50%;}#sk-container-id-7 div.sk-parallel-item:last-child::after {align-self: flex-start;width: 50%;}#sk-container-id-7 div.sk-parallel-item:only-child::after {width: 0;}#sk-container-id-7 div.sk-dashed-wrapped {border: 1px dashed gray;margin: 0 0.4em 0.5em 0.4em;box-sizing: border-box;padding-bottom: 0.4em;background-color: white;}#sk-container-id-7 div.sk-label label {font-family: monospace;font-weight: bold;display: inline-block;line-height: 1.2em;}#sk-container-id-7 div.sk-label-container {text-align: center;}#sk-container-id-7 div.sk-container {/* jupyter's `normalize.less` sets `[hidden] { display: none; }` but bootstrap.min.css set `[hidden] { display: none !important; }` so we also need the `!important` here to be able to override the default hidden behavior on the sphinx rendered scikit-learn.org. See: https://github.com/scikit-learn/scikit-learn/issues/21755 */display: inline-block !important;position: relative;}#sk-container-id-7 div.sk-text-repr-fallback {display: none;}</style><div id=\"sk-container-id-7\" class=\"sk-top-container\"><div class=\"sk-text-repr-fallback\"><pre>DBSCAN(eps=2.5, min_samples=25)</pre><b>In a Jupyter environment, please rerun this cell to show the HTML representation or trust the notebook. <br />On GitHub, the HTML representation is unable to render, please try loading this page with nbviewer.org.</b></div><div class=\"sk-container\" hidden><div class=\"sk-item\"><div class=\"sk-estimator sk-toggleable\"><input class=\"sk-toggleable__control sk-hidden--visually\" id=\"sk-estimator-id-7\" type=\"checkbox\" checked><label for=\"sk-estimator-id-7\" class=\"sk-toggleable__label sk-toggleable__label-arrow\">DBSCAN</label><div class=\"sk-toggleable__content\"><pre>DBSCAN(eps=2.5, min_samples=25)</pre></div></div></div></div></div>"
            ],
            "text/plain": [
              "DBSCAN(eps=2.5, min_samples=25)"
            ]
          },
          "execution_count": 99,
          "metadata": {},
          "output_type": "execute_result"
        }
      ],
      "source": [
        "from sklearn.cluster import DBSCAN\n",
        "DB = DBSCAN(eps=2.5, min_samples=25)\n",
        "DB.fit(df[futures])"
      ]
    },
    {
      "cell_type": "code",
      "execution_count": 100,
      "metadata": {},
      "outputs": [
        {
          "name": "stdout",
          "output_type": "stream",
          "text": [
            "0.08 % - удаленных строк с выбросами на основании DBSCAN\n"
          ]
        }
      ],
      "source": [
        "df['Db_'] = pd.Series(DB.labels_)\n",
        "print(f\"{(len(df[df['Db_'] == -1]) / len(df)):.2f} % - удаленных строк с выбросами на основании DBSCAN\")"
      ]
    },
    {
      "cell_type": "code",
      "execution_count": 101,
      "metadata": {},
      "outputs": [
        {
          "name": "stdout",
          "output_type": "stream",
          "text": [
            "Глубина дерева: 5 | train_score_DB: 0.92 train_score: 0.84 test_score: 0.91 | delta: -0.07\n",
            "средний f-1 для 6 классов: 0.9 при этом для каждого он составляет\n"
          ]
        },
        {
          "data": {
            "text/plain": [
              "0    0.87\n",
              "1    0.90\n",
              "2    0.80\n",
              "3    0.86\n",
              "4    1.00\n",
              "5    1.00\n",
              "dtype: float64"
            ]
          },
          "execution_count": 101,
          "metadata": {},
          "output_type": "execute_result"
        }
      ],
      "source": [
        "X_train_DB, _, y_train_DB, _ =train_test_split(X[df['Db_'] != -1] , y[df['Db_'] != -1], test_size=0.20, random_state=42)\n",
        "\n",
        "rFC.fit(X_train_DB, y_train_DB)\n",
        "train_score_out = rFC.score(X_train_DB, y_train_DB)\n",
        "train_score = rFC.score(X_train, y_train)\n",
        "test_score = rFC.score(X_test, y_test)\n",
        "print(f\"Глубина дерева: {5} | train_score_DB: {train_score_out:.2f} train_score: {train_score:.2f} test_score: {test_score:.2f} | delta: {(train_score - test_score):.2f}\")\n",
        "\n",
        "y_test_pred = rFC.predict(X_test)\n",
        "f_1 = f1_score(y_test_pred, y_test, average=None)\n",
        "count_class, f_1_, f_1_mean = len(f_1), [round(f, 2) for f in f_1], round(f_1.mean(), 2)\n",
        "print(f\"средний f-1 для {count_class} классов: {f_1_mean} при этом для каждого он составляет\")\n",
        "pd.Series(f_1).apply(lambda x: round(x, 2))"
      ]
    },
    {
      "cell_type": "markdown",
      "metadata": {},
      "source": [
        "#### Метод удаления выбросов `LocalOutlierFactor` и обучение модели на очищенных данных"
      ]
    },
    {
      "cell_type": "code",
      "execution_count": 102,
      "metadata": {},
      "outputs": [],
      "source": [
        "from sklearn.neighbors import LocalOutlierFactor\n",
        "LOF = LocalOutlierFactor(n_neighbors=20, novelty=True, contamination=0.1)"
      ]
    },
    {
      "cell_type": "code",
      "execution_count": 103,
      "metadata": {},
      "outputs": [
        {
          "data": {
            "text/html": [
              "<style>#sk-container-id-8 {color: black;}#sk-container-id-8 pre{padding: 0;}#sk-container-id-8 div.sk-toggleable {background-color: white;}#sk-container-id-8 label.sk-toggleable__label {cursor: pointer;display: block;width: 100%;margin-bottom: 0;padding: 0.3em;box-sizing: border-box;text-align: center;}#sk-container-id-8 label.sk-toggleable__label-arrow:before {content: \"▸\";float: left;margin-right: 0.25em;color: #696969;}#sk-container-id-8 label.sk-toggleable__label-arrow:hover:before {color: black;}#sk-container-id-8 div.sk-estimator:hover label.sk-toggleable__label-arrow:before {color: black;}#sk-container-id-8 div.sk-toggleable__content {max-height: 0;max-width: 0;overflow: hidden;text-align: left;background-color: #f0f8ff;}#sk-container-id-8 div.sk-toggleable__content pre {margin: 0.2em;color: black;border-radius: 0.25em;background-color: #f0f8ff;}#sk-container-id-8 input.sk-toggleable__control:checked~div.sk-toggleable__content {max-height: 200px;max-width: 100%;overflow: auto;}#sk-container-id-8 input.sk-toggleable__control:checked~label.sk-toggleable__label-arrow:before {content: \"▾\";}#sk-container-id-8 div.sk-estimator input.sk-toggleable__control:checked~label.sk-toggleable__label {background-color: #d4ebff;}#sk-container-id-8 div.sk-label input.sk-toggleable__control:checked~label.sk-toggleable__label {background-color: #d4ebff;}#sk-container-id-8 input.sk-hidden--visually {border: 0;clip: rect(1px 1px 1px 1px);clip: rect(1px, 1px, 1px, 1px);height: 1px;margin: -1px;overflow: hidden;padding: 0;position: absolute;width: 1px;}#sk-container-id-8 div.sk-estimator {font-family: monospace;background-color: #f0f8ff;border: 1px dotted black;border-radius: 0.25em;box-sizing: border-box;margin-bottom: 0.5em;}#sk-container-id-8 div.sk-estimator:hover {background-color: #d4ebff;}#sk-container-id-8 div.sk-parallel-item::after {content: \"\";width: 100%;border-bottom: 1px solid gray;flex-grow: 1;}#sk-container-id-8 div.sk-label:hover label.sk-toggleable__label {background-color: #d4ebff;}#sk-container-id-8 div.sk-serial::before {content: \"\";position: absolute;border-left: 1px solid gray;box-sizing: border-box;top: 0;bottom: 0;left: 50%;z-index: 0;}#sk-container-id-8 div.sk-serial {display: flex;flex-direction: column;align-items: center;background-color: white;padding-right: 0.2em;padding-left: 0.2em;position: relative;}#sk-container-id-8 div.sk-item {position: relative;z-index: 1;}#sk-container-id-8 div.sk-parallel {display: flex;align-items: stretch;justify-content: center;background-color: white;position: relative;}#sk-container-id-8 div.sk-item::before, #sk-container-id-8 div.sk-parallel-item::before {content: \"\";position: absolute;border-left: 1px solid gray;box-sizing: border-box;top: 0;bottom: 0;left: 50%;z-index: -1;}#sk-container-id-8 div.sk-parallel-item {display: flex;flex-direction: column;z-index: 1;position: relative;background-color: white;}#sk-container-id-8 div.sk-parallel-item:first-child::after {align-self: flex-end;width: 50%;}#sk-container-id-8 div.sk-parallel-item:last-child::after {align-self: flex-start;width: 50%;}#sk-container-id-8 div.sk-parallel-item:only-child::after {width: 0;}#sk-container-id-8 div.sk-dashed-wrapped {border: 1px dashed gray;margin: 0 0.4em 0.5em 0.4em;box-sizing: border-box;padding-bottom: 0.4em;background-color: white;}#sk-container-id-8 div.sk-label label {font-family: monospace;font-weight: bold;display: inline-block;line-height: 1.2em;}#sk-container-id-8 div.sk-label-container {text-align: center;}#sk-container-id-8 div.sk-container {/* jupyter's `normalize.less` sets `[hidden] { display: none; }` but bootstrap.min.css set `[hidden] { display: none !important; }` so we also need the `!important` here to be able to override the default hidden behavior on the sphinx rendered scikit-learn.org. See: https://github.com/scikit-learn/scikit-learn/issues/21755 */display: inline-block !important;position: relative;}#sk-container-id-8 div.sk-text-repr-fallback {display: none;}</style><div id=\"sk-container-id-8\" class=\"sk-top-container\"><div class=\"sk-text-repr-fallback\"><pre>LocalOutlierFactor(contamination=0.1, novelty=True)</pre><b>In a Jupyter environment, please rerun this cell to show the HTML representation or trust the notebook. <br />On GitHub, the HTML representation is unable to render, please try loading this page with nbviewer.org.</b></div><div class=\"sk-container\" hidden><div class=\"sk-item\"><div class=\"sk-estimator sk-toggleable\"><input class=\"sk-toggleable__control sk-hidden--visually\" id=\"sk-estimator-id-8\" type=\"checkbox\" checked><label for=\"sk-estimator-id-8\" class=\"sk-toggleable__label sk-toggleable__label-arrow\">LocalOutlierFactor</label><div class=\"sk-toggleable__content\"><pre>LocalOutlierFactor(contamination=0.1, novelty=True)</pre></div></div></div></div></div>"
            ],
            "text/plain": [
              "LocalOutlierFactor(contamination=0.1, novelty=True)"
            ]
          },
          "execution_count": 103,
          "metadata": {},
          "output_type": "execute_result"
        }
      ],
      "source": [
        "LOF.fit(df[futures])"
      ]
    },
    {
      "cell_type": "code",
      "execution_count": 104,
      "metadata": {},
      "outputs": [
        {
          "name": "stdout",
          "output_type": "stream",
          "text": [
            "0.09 % - удаленных строк с выбросами на основании LOF\n"
          ]
        },
        {
          "name": "stderr",
          "output_type": "stream",
          "text": [
            "d:\\avsip\\code\\ML\\home_work_netology\\.venv\\lib\\site-packages\\sklearn\\base.py:465: UserWarning: X does not have valid feature names, but LocalOutlierFactor was fitted with feature names\n",
            "  warnings.warn(\n"
          ]
        }
      ],
      "source": [
        "df['LOF'] = pd.DataFrame(LOF.predict(df[futures]), columns=['LOF'])\n",
        "print(f\"{(len(df[df['LOF'] == -1]) / len(df)):.2f} % - удаленных строк с выбросами на основании LOF\")"
      ]
    },
    {
      "cell_type": "code",
      "execution_count": 105,
      "metadata": {},
      "outputs": [
        {
          "name": "stdout",
          "output_type": "stream",
          "text": [
            "Глубина дерева: 5 | 0.92 train_score: 0.85 test_score: 0.88 | delta: -0.03\n",
            "средний f-1 для 6 классов: 0.87 при этом для каждого он составляет\n"
          ]
        },
        {
          "data": {
            "text/plain": [
              "0    0.88\n",
              "1    0.86\n",
              "2    0.80\n",
              "3    0.86\n",
              "4    0.80\n",
              "5    1.00\n",
              "dtype: float64"
            ]
          },
          "execution_count": 105,
          "metadata": {},
          "output_type": "execute_result"
        }
      ],
      "source": [
        "X_train_LOF, _, y_train_LOF, _ =train_test_split(X[df['LOF'] != -1] , y[df['LOF'] != -1], test_size=0.20, random_state=42)\n",
        "\n",
        "rFC.fit(X_train_LOF, y_train_LOF)\n",
        "train_score_ = rFC.score(X_train_LOF, y_train_LOF)\n",
        "train_score = rFC.score(X_train, y_train)\n",
        "test_score = rFC.score(X_test, y_test)\n",
        "print(f\"Глубина дерева: {5} | {train_score_:.2f} train_score: {train_score:.2f} test_score: {test_score:.2f} | delta: {(train_score - test_score):.2f}\")\n",
        "\n",
        "y_test_pred = rFC.predict(X_test)\n",
        "f_1 = f1_score(y_test_pred, y_test, average=None)\n",
        "count_class, f_1_, f_1_mean = len(f_1), [round(f, 2) for f in f_1], round(f_1.mean(), 2)\n",
        "print(f\"средний f-1 для {count_class} классов: {f_1_mean} при этом для каждого он составляет\")\n",
        "pd.Series(f_1).apply(lambda x: round(x, 2))"
      ]
    },
    {
      "cell_type": "markdown",
      "metadata": {},
      "source": [
        "#### Метод удаления выбросов `IsolationForest` и обучение модели на очищенных данных"
      ]
    },
    {
      "cell_type": "code",
      "execution_count": 106,
      "metadata": {},
      "outputs": [
        {
          "name": "stdout",
          "output_type": "stream",
          "text": [
            "0.10 % - удаленных строк с выбросами на основании If\n"
          ]
        }
      ],
      "source": [
        "from sklearn.ensemble import IsolationForest\n",
        "\n",
        "If = IsolationForest()\n",
        "df['If'] = pd.DataFrame(If.fit_predict(df[futures]), columns=['If'])\n",
        "print(f\"{(len(df[df['If'] == -1]) / len(df)):.2f} % - удаленных строк с выбросами на основании If\")"
      ]
    },
    {
      "cell_type": "code",
      "execution_count": 107,
      "metadata": {},
      "outputs": [
        {
          "name": "stdout",
          "output_type": "stream",
          "text": [
            "Глубина дерева: 5 | 0.92 train_score: 0.80 test_score: 0.88 | delta: -0.09\n",
            "средний f-1 для 6 классов: 0.82 при этом для каждого он составляет\n"
          ]
        },
        {
          "data": {
            "text/plain": [
              "0    0.92\n",
              "1    0.87\n",
              "2    0.50\n",
              "3    0.86\n",
              "4    0.80\n",
              "5    1.00\n",
              "dtype: float64"
            ]
          },
          "execution_count": 107,
          "metadata": {},
          "output_type": "execute_result"
        }
      ],
      "source": [
        "X_train_If, _, y_train_If, _ =train_test_split(X[df['If'] != -1] , y[df['If'] != -1], test_size=0.20, random_state=42)\n",
        "\n",
        "rFC.fit(X_train_If, y_train_If)\n",
        "train_score_ = rFC.score(X_train_If, y_train_If)\n",
        "train_score = rFC.score(X_train, y_train)\n",
        "test_score = rFC.score(X_test, y_test)\n",
        "print(f\"Глубина дерева: {5} | {train_score_:.2f} train_score: {train_score:.2f} test_score: {test_score:.2f} | delta: {(train_score - test_score):.2f}\")\n",
        "\n",
        "y_test_pred = rFC.predict(X_test)\n",
        "f_1 = f1_score(y_test_pred, y_test, average=None)\n",
        "count_class, f_1_, f_1_mean = len(f_1), [round(f, 2) for f in f_1], round(f_1.mean(), 2)\n",
        "print(f\"средний f-1 для {count_class} классов: {f_1_mean} при этом для каждого он составляет\")\n",
        "pd.Series(f_1).apply(lambda x: round(x, 2))"
      ]
    },
    {
      "cell_type": "markdown",
      "metadata": {},
      "source": [
        "### Сравнение параметров трех методов и обучить модель только на совпадениях по исключениям"
      ]
    },
    {
      "cell_type": "code",
      "execution_count": 108,
      "metadata": {},
      "outputs": [
        {
          "name": "stdout",
          "output_type": "stream",
          "text": [
            "0.03 % - удаленных строк с выбросами на основании исключения если все три модели определили как выброс\n"
          ]
        }
      ],
      "source": [
        "def check(row):\n",
        "    if row['Db_'] == row['LOF'] and row['Db_'] == row['If']:\n",
        "        return -1\n",
        "    return None\n",
        "\n",
        "df['all'] = df.apply(lambda row : check(row), axis=1)\n",
        "print(f\"{(len(df[df['all'] == -1]) / len(df)):.2f} % - удаленных строк с выбросами на основании исключения если все три модели определили как выброс\")"
      ]
    },
    {
      "cell_type": "code",
      "execution_count": 109,
      "metadata": {},
      "outputs": [
        {
          "name": "stdout",
          "output_type": "stream",
          "text": [
            "Глубина дерева: 5 | 0.89 train_score: 0.80 test_score: 0.84 | delta: -0.04\n",
            "средний f-1 для 6 классов: 0.8 при этом для каждого он составляет\n"
          ]
        },
        {
          "data": {
            "text/plain": [
              "0    0.81\n",
              "1    0.81\n",
              "2    0.50\n",
              "3    0.86\n",
              "4    0.80\n",
              "5    1.00\n",
              "dtype: float64"
            ]
          },
          "execution_count": 109,
          "metadata": {},
          "output_type": "execute_result"
        }
      ],
      "source": [
        "X_train_all, _, y_train_all, _ =train_test_split(X[df['all'] != -1] , y[df['all'] != -1], test_size=0.20, random_state=42)\n",
        "\n",
        "rFC.fit(X_train_all, y_train_all)\n",
        "train_score_ = rFC.score(X_train_all, y_train_all)\n",
        "train_score = rFC.score(X_train, y_train)\n",
        "test_score = rFC.score(X_test, y_test)\n",
        "print(f\"Глубина дерева: {5} | {train_score_:.2f} train_score: {train_score:.2f} test_score: {test_score:.2f} | delta: {(train_score - test_score):.2f}\")\n",
        "\n",
        "y_test_pred = rFC.predict(X_test)\n",
        "f_1 = f1_score(y_test_pred, y_test, average=None)\n",
        "count_class, f_1_, f_1_mean = len(f_1), [round(f, 2) for f in f_1], round(f_1.mean(), 2)\n",
        "print(f\"средний f-1 для {count_class} классов: {f_1_mean} при этом для каждого он составляет\")\n",
        "pd.Series(f_1).apply(lambda x: round(x, 2))"
      ]
    },
    {
      "cell_type": "markdown",
      "metadata": {},
      "source": [
        "### Вывод\n",
        "\n",
        "+ в данных есть выбросы, практически во всех параметрах, за исключением `Mg`\n",
        "+ нормальное распределение не выявлено, есть либо выбросы или отклонение медианы в ту или иную сторону\n",
        "  + без удаления выбросов: train_score: `0.91` test_score: `0.81`\n",
        "+ Проделана следующие методы удаления выбросов:\n",
        "  + `-0,06%` поиск после усреднения и отклонения более чем на значение 2 (определил по графику, как границу усов) train_score: `0.87` test_score: `0.88`\n",
        "  + ✔✔✔ `-0.08 %` `DBSCAN` - train_score: `0.84` test_score: `0.91` средний `f-1` для `6` классов: `0.9`\n",
        "  + `-0.09 %` `LOF` - train_score: `0.84` test_score: `0.86`\n",
        "  + `-0.11 %` `IsolationForest` - train_score: `0.82` test_score: `0.88`\n",
        "  + `-0.03 %` как совпадение трех моделей по выбросам - train_score: `0.81` test_score: `0.86` средний `f-1` для `6` классов: `0.8`\n",
        "\n",
        "**Без удаления выбросов модель показала худший результат**\n",
        "**метод DBSCAN показал самый лучший результат, при этом удалил оптимальное количество данных**\n",
        "\n",
        "+ Важно отметить, что удаление выбросов вручную очень трудоемко, хотя и дает не плохие результаты, но сопряжено с рисками некорректной оценки\n",
        "+ Использование методов моделей, значительно упрощает процесс и позволяет настраивать параметры для обеспечения контроля данного процесса\n",
        "+ Цель данного подхода заключается в подготовке данных, максимально корректно описывающих реальное поведение исследуемых признаков в жизни, без учета случайностей"
      ]
    }
  ],
  "metadata": {
    "colab": {
      "collapsed_sections": [],
      "provenance": [],
      "toc_visible": true
    },
    "kernelspec": {
      "display_name": "Python 3",
      "language": "python",
      "name": "python3"
    },
    "language_info": {
      "codemirror_mode": {
        "name": "ipython",
        "version": 3
      },
      "file_extension": ".py",
      "mimetype": "text/x-python",
      "name": "python",
      "nbconvert_exporter": "python",
      "pygments_lexer": "ipython3",
      "version": "3.10.11"
    }
  },
  "nbformat": 4,
  "nbformat_minor": 0
}
