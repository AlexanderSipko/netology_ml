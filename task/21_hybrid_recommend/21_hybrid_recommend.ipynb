{
  "cells": [
    {
      "cell_type": "markdown",
      "metadata": {},
      "source": [
        "# Гибридные рекомендательные системы"
      ]
    },
    {
      "cell_type": "code",
      "execution_count": 43,
      "metadata": {},
      "outputs": [],
      "source": [
        "from surprise import SVD, Dataset, Reader\n",
        "from surprise import accuracy\n",
        "from surprise import SVDpp\n",
        "from surprise.model_selection import train_test_split\n",
        "from sklearn.feature_extraction.text import TfidfTransformer, CountVectorizer\n",
        "from sklearn.neighbors import NearestNeighbors\n",
        "import pandas as pd\n",
        "import numpy as np\n",
        "from tqdm import tqdm_notebook\n",
        "\n",
        "# Загрузка данных из CSV файлов\n",
        "movies = pd.read_csv('../../src/MovieLens/movies.csv')\n",
        "ratings = pd.read_csv('../../src/MovieLens/ratings.csv')\n",
        "tags = pd.read_csv('../../src/MovieLens/tags.csv')\n",
        "links = pd.read_csv('../../src/MovieLens/links.csv')"
      ]
    },
    {
      "cell_type": "markdown",
      "metadata": {},
      "source": [
        "## Объединение данных о фильмах и рейтингах"
      ]
    },
    {
      "cell_type": "code",
      "execution_count": 44,
      "metadata": {},
      "outputs": [],
      "source": [
        "movies_with_ratings = movies.join(ratings.set_index('movieId'), on='movieId').reset_index(drop=True)\n",
        "movies_with_ratings.dropna(inplace=True)\n",
        "\n",
        "dataset = pd.DataFrame({\n",
        "    'uid': movies_with_ratings.userId,\n",
        "    'iid': movies_with_ratings.title,\n",
        "    'rating': movies_with_ratings.rating\n",
        "})\n",
        "\n",
        "reader = Reader(rating_scale=(0.5, 5.0))\n",
        "data = Dataset.load_from_df(dataset, reader)"
      ]
    },
    {
      "cell_type": "markdown",
      "metadata": {},
      "source": [
        "### Подготовка данных к обучению и обучение модели `SVD`"
      ]
    },
    {
      "cell_type": "code",
      "execution_count": 51,
      "metadata": {},
      "outputs": [
        {
          "name": "stdout",
          "output_type": "stream",
          "text": [
            "RMSE: 0.8683\n",
            "RMSE_SVD: 0.8682860514438984\n",
            "RMSE: 0.8683\n",
            "0.8682860514438984\n"
          ]
        }
      ],
      "source": [
        "trainset, testset = train_test_split(data, test_size=.15, random_state=42)\n",
        "\n",
        "algoSVD = SVD()\n",
        "algoSVD.fit(trainset)\n",
        "test_predSVD = algoSVD.test(testset)\n",
        "rmseSVD = accuracy.rmse(test_predSVD, verbose=True)\n",
        "print(f\"RMSE_SVD: {rmseSVD}\")\n",
        "print(accuracy.rmse(test_predSVD, verbose=True))"
      ]
    },
    {
      "cell_type": "markdown",
      "metadata": {},
      "source": [
        "### Подготовка данных к обучению и обучение модели `SVDpp`"
      ]
    },
    {
      "cell_type": "code",
      "execution_count": 52,
      "metadata": {},
      "outputs": [
        {
          "name": "stdout",
          "output_type": "stream",
          "text": [
            "RMSE: 0.8585\n",
            "RMSE_SVDpp: 0.8585038632190032\n",
            "RMSE: 0.8585\n",
            "0.8585038632190032\n"
          ]
        }
      ],
      "source": [
        "algoSVDpp = SVDpp()\n",
        "algoSVDpp.fit(trainset)\n",
        "test_predSVDpp = algoSVDpp.test(testset)\n",
        "rmseSVDpp = accuracy.rmse(test_predSVDpp, verbose=True)\n",
        "print(f\"RMSE_SVDpp: {rmseSVDpp}\")\n",
        "print(accuracy.rmse(test_predSVDpp, verbose=True))\n"
      ]
    },
    {
      "cell_type": "markdown",
      "metadata": {},
      "source": [
        "### Расчет оценок для фильмов, которые пользователь еще не смотрел, на основании лучшей модели по оценке `RMSE`"
      ]
    },
    {
      "cell_type": "code",
      "execution_count": 53,
      "metadata": {},
      "outputs": [
        {
          "name": "stdout",
          "output_type": "stream",
          "text": [
            "[4.331761912214249, 4.3487464184876625, 4.361508042030071, 4.397565361714495, 4.407643732847146, 4.412338738035427, 4.412401982530755, 4.415904038347125, 4.433901724113903, 4.470461694190552]\n"
          ]
        }
      ],
      "source": [
        "current_user_id = 2.0\n",
        "user_movies = movies_with_ratings[movies_with_ratings.userId == current_user_id].title.unique()\n",
        "\n",
        "scores = []\n",
        "titles = []\n",
        "\n",
        "for movie in movies_with_ratings.title.unique():\n",
        "    if movie in user_movies:\n",
        "        continue\n",
        "        \n",
        "    scores.append(algoSVD.predict(uid=current_user_id, iid=movie).est)\n",
        "    titles.append(movie)\n",
        "\n",
        "print(sorted(scores)[-10:])"
      ]
    },
    {
      "cell_type": "markdown",
      "metadata": {},
      "source": [
        "### Подготовка данных и `CountVectorizer` и поиск `NearestNeighbors`"
      ]
    },
    {
      "cell_type": "code",
      "execution_count": 54,
      "metadata": {},
      "outputs": [
        {
          "name": "stderr",
          "output_type": "stream",
          "text": [
            "C:\\Users\\avsip\\AppData\\Local\\Temp\\ipykernel_5196\\319968114.py:30: TqdmDeprecationWarning: This function will be removed in tqdm==5.0.0\n",
            "Please use `tqdm.notebook.tqdm` instead of `tqdm.tqdm_notebook`\n",
            "  for index, row in tqdm_notebook(movies.iterrows()):\n"
          ]
        },
        {
          "data": {
            "application/vnd.jupyter.widget-view+json": {
              "model_id": "561474534b55437b91f50dae21a94d4b",
              "version_major": 2,
              "version_minor": 0
            },
            "text/plain": [
              "0it [00:00, ?it/s]"
            ]
          },
          "metadata": {},
          "output_type": "display_data"
        }
      ],
      "source": [
        "def change_string(s):\n",
        "    return ' '.join(s.replace(' ', '').replace('-', '').split('|'))\n",
        "\n",
        "movie_genres = [change_string(g) for g in movies.genres.values]\n",
        "\n",
        "count_vect = CountVectorizer()\n",
        "X_train_counts = count_vect.fit_transform(movie_genres)\n",
        "\n",
        "tfidf_transformer = TfidfTransformer()\n",
        "X_train_tfidf = tfidf_transformer.fit_transform(X_train_counts)\n",
        "\n",
        "neigh = NearestNeighbors(n_neighbors=20, metric='euclidean') \n",
        "neigh.fit(X_train_tfidf)\n",
        "\n",
        "test = change_string(\"Adventure|Comedy|Fantasy|Crime\")\n",
        "predict = count_vect.transform([test])\n",
        "X_tfidf2 = tfidf_transformer.transform(predict)\n",
        "\n",
        "res = neigh.kneighbors(X_tfidf2, return_distance=True)\n",
        "\n",
        "movies_with_ratings.sort_values('timestamp', inplace=True)\n",
        "\n",
        "title_genres = {}\n",
        "\n",
        "for index, row in tqdm_notebook(movies.iterrows()):\n",
        "    title_genres[row.title] = row.genres"
      ]
    },
    {
      "cell_type": "markdown",
      "metadata": {},
      "source": [
        "### Функция гибридной рекомендательной системы"
      ]
    },
    {
      "cell_type": "code",
      "execution_count": 67,
      "metadata": {},
      "outputs": [],
      "source": [
        "\n",
        "def hybrid_recommend(user_id, algo):\n",
        "    current_user_id = user_id\n",
        "    user_movies = movies_with_ratings[movies_with_ratings.userId == current_user_id].title.unique()\n",
        "    \n",
        "    last_user_movie = user_movies[-1]\n",
        "    \n",
        "    movie_genres = title_genres[last_user_movie]\n",
        "    movie_genres = change_string(movie_genres)\n",
        "\n",
        "    predict = count_vect.transform([movie_genres])\n",
        "    X_tfidf2 = tfidf_transformer.transform(predict)\n",
        "\n",
        "    res = neigh.kneighbors(X_tfidf2, return_distance=True)\n",
        "    \n",
        "    movies_to_score = movies.iloc[res[1][0]].title.values\n",
        "\n",
        "    scores = []\n",
        "    titles = []\n",
        "\n",
        "    for movie in movies_to_score:\n",
        "        if movie in user_movies:\n",
        "            continue\n",
        "\n",
        "        scores.append(algo.predict(uid=current_user_id, iid=movie).est)\n",
        "        titles.append(movie)\n",
        "    \n",
        "    best_indexes = np.argsort(scores)[-10:]\n",
        "    for i in reversed(best_indexes):\n",
        "        print(f\"{titles[i]:<50} {scores[i]:.2f}\")\n"
      ]
    },
    {
      "cell_type": "markdown",
      "metadata": {},
      "source": [
        "### Рекомендация фильмов для определенного `user`"
      ]
    },
    {
      "cell_type": "code",
      "execution_count": 68,
      "metadata": {},
      "outputs": [
        {
          "name": "stdout",
          "output_type": "stream",
          "text": [
            "Вывод 10 рекомендуемых фильмов на основании алгоритма SVD и NearestNeighbors (гибридная система)\n",
            "\n",
            "Enemy of the State (1998)                          3.54\n",
            "Assault on Precinct 13 (1976)                      3.53\n",
            "Assignment, The (1997)                             3.53\n",
            "Air Force One (1997)                               3.46\n",
            "Payback (1999)                                     3.43\n",
            "Package, The (1989)                                3.43\n",
            "Nick of Time (1995)                                3.41\n",
            "Blind Fury (1989)                                  3.41\n",
            "Breakdown (1997)                                   3.36\n",
            "Blown Away (1994)                                  3.29\n"
          ]
        }
      ],
      "source": [
        "user = 5\n",
        "movies_with_ratings[movies_with_ratings.userId == user].sort_values('rating')\n",
        "\n",
        "print(\"Вывод 10 рекомендуемых фильмов на основании алгоритма SVD и NearestNeighbors (гибридная система)\\n\")\n",
        "hybrid_recommend(user, algoSVD)"
      ]
    },
    {
      "cell_type": "markdown",
      "metadata": {},
      "source": [
        "## Вывод\n",
        "\n",
        "Сформировал Гибридную рекомендательную систему на основании массива `ml-latest`:\n",
        "\n",
        "Сделал следующую работу:\n",
        "+ Загрузил данные о фильмах, рейтингах и тегах, и подготовил данные для обучения модели.\n",
        "+ Обучил две модели:\n",
        "  + `SVD` с `RMSE` `0.868`\n",
        "  + `SVDpp` с `RMSE` `0.858`\n",
        "+ На основании модели `SVD` имеющей более высокий `RMSE` спрогнозировал оценку фильма для тех которые пользователь еще не смотрел.\n",
        "+ Для поиска похожих фильмов на основании жанров, подготовил данные для поиска ближайших соседей, жанры преобразуются в `TF-DF`, и модель `NearestNeighbors`.\n",
        "+ Создал функцию для гибридной рекомендательной системы:\n",
        "  + Функция комбинирует методы коллаборативной фильтрации `SVD` и контентной фильтрации `NearestNeighbors` для генерации рекомендаций для пользователя.\n",
        "  + Функция использует последний просмотренный фильм\n",
        "+ Вывел рекомендации для пользователя с `id` = `5`\n"
      ]
    }
  ],
  "metadata": {
    "colab": {
      "collapsed_sections": [],
      "provenance": [],
      "toc_visible": true
    },
    "kernelspec": {
      "display_name": "Python 3",
      "language": "python",
      "name": "python3"
    },
    "language_info": {
      "codemirror_mode": {
        "name": "ipython",
        "version": 3
      },
      "file_extension": ".py",
      "mimetype": "text/x-python",
      "name": "python",
      "nbconvert_exporter": "python",
      "pygments_lexer": "ipython3",
      "version": "3.10.11"
    }
  },
  "nbformat": 4,
  "nbformat_minor": 0
}
