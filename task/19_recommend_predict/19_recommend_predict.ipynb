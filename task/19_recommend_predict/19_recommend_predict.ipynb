{
  "cells": [
    {
      "cell_type": "markdown",
      "metadata": {},
      "source": [
        "# Рейтинг на основании содержания Фильмов"
      ]
    },
    {
      "cell_type": "code",
      "execution_count": 467,
      "metadata": {},
      "outputs": [],
      "source": [
        "import pandas as pd\n",
        "from sklearn.model_selection import train_test_split\n",
        "from sklearn.feature_extraction.text import TfidfVectorizer\n",
        "from sklearn.ensemble import RandomForestRegressor\n",
        "from sklearn.model_selection import train_test_split\n",
        "from sklearn.feature_extraction.text import TfidfVectorizer\n",
        "\n",
        "from sklearn.metrics import mean_squared_error\n",
        "from math import sqrt\n",
        "\n",
        "# Загрузим данные\n",
        "movies = pd.read_csv('../../src/MovieLens/movies.csv')\n",
        "ratings = pd.read_csv('../../src/MovieLens/ratings.csv')\n",
        "tags = pd.read_csv('../../src/MovieLens/tags.csv')"
      ]
    },
    {
      "cell_type": "markdown",
      "metadata": {},
      "source": [
        "## собираем общий массив для `TF-DF`"
      ]
    },
    {
      "cell_type": "code",
      "execution_count": 468,
      "metadata": {},
      "outputs": [],
      "source": [
        "ratings.rating = ratings.rating.fillna(0)\n",
        "mean_ratings = ratings.groupby('movieId').agg({'rating':'mean'}).reset_index()\n",
        "mean_ratings = mean_ratings.rename(columns={'rating': 'mean_rating'})\n",
        "\n",
        "grouped_movies = movies.groupby('movieId').agg({\n",
        "    'title': 'first',\n",
        "    'genres': '|'.join,\n",
        "}).reset_index()\n",
        "len(grouped_movies) == len(movies)\n",
        "grouped_movies.head()\n",
        "tags['tag'] = tags['tag'].fillna('')\n",
        "grouped_tags = tags.groupby('movieId')['tag'].apply(lambda x: ' '.join(x)).reset_index()\n",
        "grouped_tags.head()\n",
        "\n",
        "move_genres_and_tag = pd.merge(grouped_movies, grouped_tags, how='left').fillna('NoTag')\n",
        "\n",
        "data = pd.merge(move_genres_and_tag, mean_ratings, how='left')\n",
        "data['mean_rating'] = data['mean_rating'].fillna(0)"
      ]
    },
    {
      "cell_type": "markdown",
      "metadata": {},
      "source": [
        "## `TF-DF` для `teg` и `genres`"
      ]
    },
    {
      "cell_type": "code",
      "execution_count": 469,
      "metadata": {},
      "outputs": [],
      "source": [
        "tfidf_vectorizer_tags = TfidfVectorizer(stop_words='english')\n",
        "tags_tfidf = tfidf_vectorizer_tags.fit_transform(data['tag'])\n",
        "\n",
        "\n",
        "tfidf_vectorizer_genres = TfidfVectorizer(stop_words='english')\n",
        "genres_tfidf = tfidf_vectorizer_genres.fit_transform(data['genres'])\n"
      ]
    },
    {
      "cell_type": "markdown",
      "metadata": {},
      "source": [
        "## объедениям и обучаем модель"
      ]
    },
    {
      "cell_type": "code",
      "execution_count": 470,
      "metadata": {},
      "outputs": [],
      "source": [
        "tags_df = pd.DataFrame(tags_tfidf.toarray(), index=data['movieId']).reset_index()\n",
        "genres_df = pd.DataFrame(genres_tfidf.toarray(), index=data['movieId']).reset_index()\n",
        "data = pd.merge(data, tags_df, left_on='movieId', right_on='movieId', how='left')\n",
        "data = pd.merge(data, genres_df, left_on='movieId', right_on='movieId', how='left')\n",
        "\n",
        "train_data, test_data = train_test_split(data, test_size=0.2, random_state=42)\n",
        "\n",
        "X_train = train_data.drop(['movieId', 'title', 'genres', 'tag', 'mean_rating'], axis=1)\n",
        "y_train = train_data['mean_rating']\n",
        "X_test = test_data.drop(['movieId', 'title', 'genres', 'tag', 'mean_rating'], axis=1)\n",
        "y_test = test_data['mean_rating']\n",
        "\n",
        "X_train.columns = X_train.columns.astype(str)\n",
        "X_test.columns = X_test.columns.astype(str)\n",
        "\n",
        "model = RandomForestRegressor(random_state=42)\n",
        "model.fit(X_train, y_train)\n",
        "\n",
        "predictions = model.predict(X_test)\n"
      ]
    },
    {
      "cell_type": "markdown",
      "metadata": {},
      "source": [
        "# Оценка `RMSE` и процент ошибок"
      ]
    },
    {
      "cell_type": "code",
      "execution_count": 471,
      "metadata": {},
      "outputs": [
        {
          "name": "stdout",
          "output_type": "stream",
          "text": [
            "RMSE on test data: 0.8518352980405883\n",
            "Процентная ошибка: 17.04%\n"
          ]
        }
      ],
      "source": [
        "rmse = sqrt(mean_squared_error(y_test, predictions))\n",
        "print(f'RMSE on test data: {rmse}')\n",
        "max_rating = data['mean_rating'].max()\n",
        "percentage_error = (rmse / max_rating) * 100\n",
        "print(f'Процентная ошибка: {percentage_error:.2f}%')"
      ]
    },
    {
      "cell_type": "markdown",
      "metadata": {},
      "source": [
        "## Предсказание рейтингов для всех фильмов в датасете и вывод `5`"
      ]
    },
    {
      "cell_type": "code",
      "execution_count": 472,
      "metadata": {},
      "outputs": [
        {
          "name": "stdout",
          "output_type": "stream",
          "text": [
            "Top 5 рекомендаций для нового пользователя:\n",
            "1. More (1998)                                        -    5.0     - Animation|Drama|Sci-Fi|IMAX    - claymation creativity dystopia free to download imagination no dialogue social commentary - Предсказанный рейтинг: 4.724221606962249\n",
            "2. Going Places (Valseuses, Les) (1974)               -    5.0     - Comedy|Crime|Drama             - irreverent                     - Предсказанный рейтинг: 4.691938606782134\n",
            "3. Who Killed Chea Vichea? (2010)                     -    5.0     - Documentary                    - Cambodia crime human rights murder procedural - Предсказанный рейтинг: 4.654\n",
            "4. Lady Jane (1986)                                   -    5.0     - Drama|Romance                  - England                        - Предсказанный рейтинг: 4.625855072463769\n",
            "5. Loving Vincent (2017)                              -    5.0     - Animation|Crime|Drama          - NoTag                          - Предсказанный рейтинг: 4.609079146910273\n"
          ]
        }
      ],
      "source": [
        "t = data.drop(['movieId', 'title', 'genres', 'tag', 'mean_rating'], axis=1)\n",
        "t.columns = t.columns.astype(str)\n",
        "all_movie_predictions = model.predict(t)\n",
        "\n",
        "all_recommendations = pd.DataFrame({\n",
        "    'movieId': data['movieId'],\n",
        "    'title': data['title'],\n",
        "    'tag': data['tag'],\n",
        "    'genres': data['genres'],\n",
        "    'mean_rating': data['mean_rating'],\n",
        "    'predicted_rating': all_movie_predictions\n",
        "})\n",
        "\n",
        "all_recommendations = all_recommendations.sort_values(by='predicted_rating', ascending=False)\n",
        "\n",
        "top_N = 5\n",
        "print(f'Top {top_N} рекомендаций для нового пользователя:')\n",
        "for i in range(top_N):\n",
        "    movie_title = all_recommendations.iloc[i]['title']\n",
        "    movie_tag = all_recommendations.iloc[i]['tag']\n",
        "    movie_genres = all_recommendations.iloc[i]['genres']\n",
        "    mean_rating = all_recommendations.iloc[i]['mean_rating']\n",
        "    predicted_rating = all_recommendations.iloc[i]['predicted_rating']\n",
        "    print(f'{i + 1}. {movie_title:<50} - {mean_rating:^10} - {movie_genres:<30} - {movie_tag:<30} - Предсказанный рейтинг: {predicted_rating}')\n"
      ]
    },
    {
      "cell_type": "markdown",
      "metadata": {},
      "source": [
        "## Предложение фильмов для пользователя"
      ]
    },
    {
      "cell_type": "code",
      "execution_count": 473,
      "metadata": {},
      "outputs": [
        {
          "name": "stdout",
          "output_type": "stream",
          "text": [
            "Top 5 рекомендаций для нового пользователя с рейтингом 3.7987123848001723:\n",
            "1. Moon (2009)                                        -  3.96875   - Drama|Mystery|Sci-Fi|Thriller  - 2001-like Sci-fi solitude      - Предсказанный рейтинг: 3.898245295422262\n",
            "2. Hard-Boiled (Lat sau san taam) (1992)              -    4.0     - Action|Crime|Drama|Thriller    - gun fu heroic bloodshed        - Предсказанный рейтинг: 3.898186161400425\n",
            "3. Guardians of the Galaxy (2014)                     - 4.0508474576271185 - Action|Adventure|Sci-Fi        - funny Great Visuals humorous unlikely hero - Предсказанный рейтинг: 3.8976922580726976\n",
            "4. The Revenant (2015)                                - 3.903225806451613 - Adventure|Drama                - leonardo DiCarpio survival tom hardy visually appealing cinematography visually appealing Visually Striking - Предсказанный рейтинг: 3.8975635283396333\n",
            "5. American Gangster (2007)                           - 3.9054054054054053 - Crime|Drama|Thriller           - corruption Denzel Washington mafia organized crime - Предсказанный рейтинг: 3.897472303517044\n"
          ]
        }
      ],
      "source": [
        "new_user_data = pd.DataFrame({\n",
        "    'tag': ['funny', 'MMA', 'action', 'romance'],\n",
        "    'genres': ['Comedy', 'Romance', 'Action', 'Adventure']\n",
        "})\n",
        "\n",
        "all_tags = pd.concat([data['tag'], new_user_data['tag']])\n",
        "tfidf_vectorizer_tags.fit_transform(all_tags)\n",
        "\n",
        "new_user_tags_tfidf = tfidf_vectorizer_tags.transform(new_user_data['tag'])\n",
        "new_user_genres_tfidf = tfidf_vectorizer_genres.transform(new_user_data['genres'])\n",
        "\n",
        "new_user_tags_df = pd.DataFrame(new_user_tags_tfidf.toarray(), columns=tfidf_vectorizer_tags.get_feature_names_out())\n",
        "new_user_genres_df = pd.DataFrame(new_user_genres_tfidf.toarray(), columns=tfidf_vectorizer_genres.get_feature_names_out())\n",
        "\n",
        "new_user_data = pd.concat([new_user_data, new_user_tags_df, new_user_genres_df], axis=1)\n",
        "\n",
        "new_user_data = new_user_data.drop(['tag', 'genres'], axis=1)\n",
        "new_user_data = new_user_data.loc[:, ~new_user_data.columns.duplicated()]\n",
        "columns_to_reindex = X_train.columns\n",
        "new_user_data = new_user_data.reindex(columns=columns_to_reindex, fill_value=0)\n",
        "\n",
        "new_predictions = model.predict(new_user_data)\n",
        "new_predictions\n",
        "\n",
        "selected_recommendations = all_recommendations.loc[\n",
        "    all_recommendations['predicted_rating'].between(new_predictions[0] - 0.1, new_predictions[0] + 0.1)\n",
        "]\n",
        "\n",
        "selected_recommendations = selected_recommendations.sort_values(by='predicted_rating', ascending=False)\n",
        "\n",
        "print(f'Top {top_N} рекомендаций для нового пользователя с рейтингом {new_predictions[0]}:')\n",
        "for i in range(top_N):\n",
        "    movie_title = selected_recommendations.iloc[i]['title']\n",
        "    movie_tag = selected_recommendations.iloc[i]['tag']\n",
        "    movie_genres = selected_recommendations.iloc[i]['genres']\n",
        "    mean_rating = selected_recommendations.iloc[i]['mean_rating']\n",
        "    predicted_rating = selected_recommendations.iloc[i]['predicted_rating']\n",
        "    print(f'{i + 1}. {movie_title:<50} - {mean_rating:^10} - {movie_genres:<30} - {movie_tag:<30} - Предсказанный рейтинг: {predicted_rating}')"
      ]
    },
    {
      "cell_type": "markdown",
      "metadata": {},
      "source": [
        "## Вывод\n",
        "\n",
        "`Обработка данных:`\n",
        "    + Данные о фильмах обогатил информацией о тегах, жанрах и средних рейтингах.\n",
        "    + Применил `TF-IDF` для векторизации тегов и жанров.\n",
        "`Создание модели:`\n",
        "    + Использовал случайный лес для предсказания средних рейтингов фильмов.\n",
        "`Оценка модели:`\n",
        "    + `RMSE` on `test data`: `0.8518352980405883`\n",
        "    + Процентная ошибка: `17.04%`\n",
        "`Рекомендации для нового пользователя или какую оценку он бы поставил:`\n",
        "    - Добавил предпочтения нового пользователя по тегам и жанрам.\n",
        "    - так как по данным тегам и жанру его оценка составила `3,8` то он бы вероятно выставил рейтинг для данных фильмов в диапазоне `3.2` и `4.3`\n"
      ]
    }
  ],
  "metadata": {
    "colab": {
      "collapsed_sections": [],
      "provenance": [],
      "toc_visible": true
    },
    "kernelspec": {
      "display_name": "Python 3",
      "language": "python",
      "name": "python3"
    },
    "language_info": {
      "codemirror_mode": {
        "name": "ipython",
        "version": 3
      },
      "file_extension": ".py",
      "mimetype": "text/x-python",
      "name": "python",
      "nbconvert_exporter": "python",
      "pygments_lexer": "ipython3",
      "version": "3.10.11"
    }
  },
  "nbformat": 4,
  "nbformat_minor": 0
}
