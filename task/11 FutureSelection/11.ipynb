{
  "cells": [
    {
      "cell_type": "code",
      "execution_count": 821,
      "metadata": {},
      "outputs": [],
      "source": [
        "# импорт библиотек\n",
        "import pandas as pd\n",
        "import numpy as np\n",
        "import matplotlib.pyplot as plt\n",
        "import seaborn as sns\n",
        "from sklearn.datasets import fetch_california_housing\n",
        "from sklearn.model_selection import train_test_split\n",
        "from sklearn.linear_model import LogisticRegression\n",
        "%matplotlib inline\n",
        "import warnings\n",
        "warnings.filterwarnings(\"ignore\", \"is_categorical_dtype\")\n",
        "warnings.filterwarnings(\"ignore\", \"use_inf_as_na\")\n",
        "housing = fetch_california_housing()\n"
      ]
    },
    {
      "cell_type": "markdown",
      "metadata": {
        "id": "Rgwz8x0HBnlY"
      },
      "source": [
        "# 11 Feature Selection"
      ]
    },
    {
      "cell_type": "code",
      "execution_count": 822,
      "metadata": {},
      "outputs": [],
      "source": [
        "from sklearn.datasets import make_classification\n",
        "x_data_generated, y_data_generated = make_classification(scale=1)"
      ]
    },
    {
      "cell_type": "code",
      "execution_count": 823,
      "metadata": {},
      "outputs": [],
      "source": [
        "report = []"
      ]
    },
    {
      "cell_type": "code",
      "execution_count": 824,
      "metadata": {},
      "outputs": [
        {
          "data": {
            "text/plain": [
              "(100, 20)"
            ]
          },
          "execution_count": 824,
          "metadata": {},
          "output_type": "execute_result"
        }
      ],
      "source": [
        "x_data_generated.shape"
      ]
    },
    {
      "cell_type": "code",
      "execution_count": 825,
      "metadata": {},
      "outputs": [
        {
          "data": {
            "text/plain": [
              "0    50\n",
              "1    50\n",
              "Name: count, dtype: int64"
            ]
          },
          "execution_count": 825,
          "metadata": {},
          "output_type": "execute_result"
        }
      ],
      "source": [
        "pd.Series(y_data_generated).value_counts()"
      ]
    },
    {
      "cell_type": "code",
      "execution_count": 826,
      "metadata": {},
      "outputs": [
        {
          "data": {
            "text/plain": [
              "<Axes: >"
            ]
          },
          "execution_count": 826,
          "metadata": {},
          "output_type": "execute_result"
        },
        {
          "data": {
            "image/png": "[encoded data removed]",
            "text/plain": [
              "<Figure size 640x480 with 1 Axes>"
            ]
          },
          "metadata": {},
          "output_type": "display_data"
        }
      ],
      "source": [
        "pd.DataFrame(x_data_generated).boxplot()"
      ]
    },
    {
      "cell_type": "code",
      "execution_count": 827,
      "metadata": {},
      "outputs": [
        {
          "name": "stdout",
          "output_type": "stream",
          "text": [
            "Средняя точность (Accuracy): 0.86\n"
          ]
        }
      ],
      "source": [
        "from sklearn.model_selection import cross_val_score\n",
        "\n",
        "X = pd.DataFrame(x_data_generated, columns=[f\"Feature_{i}\" for i in range(x_data_generated.shape[1])])\n",
        "y = y_data_generated\n",
        "\n",
        "lg_model = LogisticRegression(random_state=0)\n",
        "lg_model.fit(X, y)\n",
        "mean_accuracy = cross_val_score(lg_model, X, y, scoring='accuracy').mean()\n",
        "print(f\"Средняя точность (Accuracy): {mean_accuracy:.2f}\")\n",
        "report.append(['Без удаления', x_data_generated.shape[1], f\"{mean_accuracy:.2f}\"])"
      ]
    },
    {
      "cell_type": "markdown",
      "metadata": {},
      "source": [
        "### Используйте статистические методы для отбора признаков и `VarianceThreshold`"
      ]
    },
    {
      "cell_type": "code",
      "execution_count": 828,
      "metadata": {},
      "outputs": [
        {
          "name": "stdout",
          "output_type": "stream",
          "text": [
            "Выбранные признаки после отбора: [2, 4, 7, 13]\n",
            "Средняя точность с отобранными признаками на корреляции corr (Accuracy): 0.88\n"
          ]
        }
      ],
      "source": [
        "df = pd.DataFrame(x_data_generated, columns=[i for i in range(x_data_generated.shape[1])])\n",
        "df['Target'] = y_data_generated\n",
        "correlation_matrix = df.corr()\n",
        "y = correlation_matrix['Target']\n",
        "threshold_a = 0.2\n",
        "selected_features_a = y[abs(y) > threshold_a].index.tolist()\n",
        "\n",
        "selected_features_a.remove('Target')\n",
        "accuracy_selected_c = cross_val_score(lg_model, df[selected_features_a], y_data_generated, scoring='accuracy').mean()\n",
        "\n",
        "print(\"Выбранные признаки после отбора:\", selected_features_a)\n",
        "print(f\"Средняя точность с отобранными признаками на корреляции corr (Accuracy): {accuracy_selected_c:.2f}\")\n",
        "\n",
        "report.append(['по корреляции 0.2', len(selected_features_a), f\"{accuracy_selected_c:.2f}\"])"
      ]
    },
    {
      "cell_type": "code",
      "execution_count": 829,
      "metadata": {},
      "outputs": [
        {
          "name": "stdout",
          "output_type": "stream",
          "text": [
            "Выбранные признаки после отбора: [ 1  3  4  8 13 17]\n",
            "Средняя точность с отобранными признаками после отсечения низковариативных признаков VarianceThreshold (Accuracy): 0.89\n"
          ]
        }
      ],
      "source": [
        "from sklearn.feature_selection import VarianceThreshold\n",
        "\n",
        "threshold_b = 1\n",
        "variance_selector = VarianceThreshold(threshold_b)\n",
        "x_data_selected_b = variance_selector.fit_transform(df.drop(columns='Target'), df['Target'])\n",
        "selected_feature_indices_b = variance_selector.get_support(indices=True)\n",
        "df_selected_b = df.iloc[:, selected_feature_indices_b]\n",
        "\n",
        "accuracy_selected_b = cross_val_score(lg_model, df_selected_b, df['Target'], scoring='accuracy').mean()\n",
        "print(\"Выбранные признаки после отбора:\", selected_feature_indices_b)\n",
        "print(f\"Средняя точность с отобранными признаками после отсечения низковариативных признаков VarianceThreshold (Accuracy): {accuracy_selected_b:.2f}\")\n",
        "\n",
        "report.append(['VarianceThreshold', len(selected_feature_indices_b), f\"{accuracy_selected_b:.2f}\"])"
      ]
    },
    {
      "cell_type": "markdown",
      "metadata": {},
      "source": [
        "### На основании методов `SelectKBest` `f_classif`"
      ]
    },
    {
      "cell_type": "code",
      "execution_count": 830,
      "metadata": {},
      "outputs": [
        {
          "name": "stdout",
          "output_type": "stream",
          "text": [
            "Выбранные признаки после отбора: [ 0  2  4  7 13]\n",
            "Средняя точность с отобранными признаками после отсечения низковариативных признаков SelectKBest (Accuracy): 0.88\n"
          ]
        }
      ],
      "source": [
        "from sklearn.feature_selection import SelectKBest\n",
        "from sklearn.feature_selection import f_classif\n",
        "\n",
        "selector = SelectKBest(score_func=f_classif, k=5)\n",
        "X_selected = selector.fit_transform(df.drop(columns='Target'), df['Target'])\n",
        "\n",
        "selected_feature_indices = selector.get_support(indices=True)\n",
        "accuracy_selected_b = cross_val_score(lg_model, X_selected, df['Target'], scoring='accuracy').mean()\n",
        "\n",
        "print(\"Выбранные признаки после отбора:\", selected_feature_indices)\n",
        "print(f\"Средняя точность с отобранными признаками после отсечения низковариативных признаков SelectKBest (Accuracy): {accuracy_selected_b:.2f}\")\n",
        "\n",
        "report.append(['SelectKBest и f_classif', len(selected_feature_indices), f\"{accuracy_selected_b:.2f}\"])"
      ]
    },
    {
      "cell_type": "markdown",
      "metadata": {},
      "source": [
        "### На основании методов `LogisticRegression`"
      ]
    },
    {
      "cell_type": "code",
      "execution_count": 831,
      "metadata": {},
      "outputs": [
        {
          "name": "stdout",
          "output_type": "stream",
          "text": [
            "Выбранные признаки после отбора: [ 0  1  2  4  5  8  9 10 11 12 14 15 16 17]\n",
            "Средняя точность с отобранными признаками после отсечения низковариативных признаков LogisticRegression (Accuracy): 0.90\n"
          ]
        }
      ],
      "source": [
        "from sklearn.feature_selection import SelectFromModel\n",
        "from sklearn.linear_model import LogisticRegression\n",
        "\n",
        "logistic_regression = LogisticRegression(penalty='l1', C=1.0, solver='liblinear')\n",
        "selector = SelectFromModel(logistic_regression)\n",
        "X_selected = selector.fit_transform(df.drop(columns='Target'), df['Target'])\n",
        "\n",
        "selected_feature_indices = selector.get_support(indices=True)\n",
        "\n",
        "accuracy_selected_b = cross_val_score(lg_model, X_selected, df['Target'], scoring='accuracy').mean()\n",
        "print(\"Выбранные признаки после отбора:\", selected_feature_indices)\n",
        "print(f\"Средняя точность с отобранными признаками после отсечения низковариативных признаков LogisticRegression (Accuracy): {accuracy_selected_b:.2f}\")\n",
        "\n",
        "report.append(['LogisticRegression', len(selected_feature_indices), f\"{accuracy_selected_b:.2f}\"])"
      ]
    },
    {
      "cell_type": "markdown",
      "metadata": {},
      "source": [
        "### На основании методов `RandomForestClassifier`"
      ]
    },
    {
      "cell_type": "code",
      "execution_count": 832,
      "metadata": {},
      "outputs": [
        {
          "name": "stdout",
          "output_type": "stream",
          "text": [
            "Выбранные признаки после отбора: [ 4  7 13]\n",
            "Средняя точность с отобранными признаками после отсечения низковариативных признаков RandomForestClassifier (Accuracy): 0.88\n"
          ]
        }
      ],
      "source": [
        "from sklearn.ensemble import RandomForestClassifier\n",
        "\n",
        "random_forest = RandomForestClassifier(n_estimators=100, random_state=0)\n",
        "selector = SelectFromModel(random_forest)\n",
        "X_selected = selector.fit_transform(df.drop(columns='Target'), df['Target'])\n",
        "\n",
        "selected_feature_indices = selector.get_support(indices=True)\n",
        "accuracy_selected_b = cross_val_score(lg_model, X_selected, df['Target'], scoring='accuracy').mean()\n",
        "print(\"Выбранные признаки после отбора:\", selected_feature_indices)\n",
        "print(f\"Средняя точность с отобранными признаками после отсечения низковариативных признаков RandomForestClassifier (Accuracy): {accuracy_selected_b:.2f}\")\n",
        "\n",
        "report.append(['RandomForestClassifier', len(selected_feature_indices), f\"{accuracy_selected_b:.2f}\"])"
      ]
    },
    {
      "cell_type": "markdown",
      "metadata": {},
      "source": [
        "### На основании методов `SequentialFeatureSelector`"
      ]
    },
    {
      "cell_type": "code",
      "execution_count": 833,
      "metadata": {},
      "outputs": [
        {
          "name": "stdout",
          "output_type": "stream",
          "text": [
            "кол. признаков: 10\n",
            "Средняя точность с отобранными признаками после отсечения низковариативных признаков SequentialFeatureSelector (Accuracy): 0.92\n"
          ]
        }
      ],
      "source": [
        "from sklearn.ensemble import RandomForestClassifier\n",
        "from sklearn.feature_selection import SequentialFeatureSelector\n",
        "\n",
        "selector =  SequentialFeatureSelector(\n",
        "    RandomForestClassifier(random_state=1), n_features_to_select=10, direction=\"forward\"\n",
        ")\n",
        "X_selected = selector.fit_transform(df.drop(columns='Target'), df['Target'])\n",
        "selected_feature_indices = selector.get_support()\n",
        "\n",
        "accuracy_selected_b = cross_val_score(lg_model, X_selected, df['Target'], scoring='accuracy').mean()\n",
        "print(\"кол. признаков:\", selected_feature_indices.sum())\n",
        "print(f\"Средняя точность с отобранными признаками после отсечения низковариативных признаков SequentialFeatureSelector (Accuracy): {accuracy_selected_b:.2f}\")\n",
        "\n",
        "report.append(['RandomForestClassifier и SequentialFeatureSelector', selected_feature_indices.sum(), f\"{accuracy_selected_b:.2f}\"])"
      ]
    },
    {
      "cell_type": "code",
      "execution_count": 834,
      "metadata": {},
      "outputs": [
        {
          "data": {
            "text/html": [
              "<div>\n",
              "<style scoped>\n",
              "    .dataframe tbody tr th:only-of-type {\n",
              "        vertical-align: middle;\n",
              "    }\n",
              "\n",
              "    .dataframe tbody tr th {\n",
              "        vertical-align: top;\n",
              "    }\n",
              "\n",
              "    .dataframe thead th {\n",
              "        text-align: right;\n",
              "    }\n",
              "</style>\n",
              "<table border=\"1\" class=\"dataframe\">\n",
              "  <thead>\n",
              "    <tr style=\"text-align: right;\">\n",
              "      <th></th>\n",
              "      <th>способ выбора признаков</th>\n",
              "      <th>количество признаков</th>\n",
              "      <th>средняя точность модели</th>\n",
              "    </tr>\n",
              "  </thead>\n",
              "  <tbody>\n",
              "    <tr>\n",
              "      <th>6</th>\n",
              "      <td>RandomForestClassifier и SequentialFeatureSele...</td>\n",
              "      <td>10</td>\n",
              "      <td>0.92</td>\n",
              "    </tr>\n",
              "    <tr>\n",
              "      <th>4</th>\n",
              "      <td>LogisticRegression</td>\n",
              "      <td>14</td>\n",
              "      <td>0.90</td>\n",
              "    </tr>\n",
              "    <tr>\n",
              "      <th>2</th>\n",
              "      <td>VarianceThreshold</td>\n",
              "      <td>6</td>\n",
              "      <td>0.89</td>\n",
              "    </tr>\n",
              "    <tr>\n",
              "      <th>1</th>\n",
              "      <td>по корреляции 0.2</td>\n",
              "      <td>4</td>\n",
              "      <td>0.88</td>\n",
              "    </tr>\n",
              "    <tr>\n",
              "      <th>3</th>\n",
              "      <td>SelectKBest и f_classif</td>\n",
              "      <td>5</td>\n",
              "      <td>0.88</td>\n",
              "    </tr>\n",
              "    <tr>\n",
              "      <th>5</th>\n",
              "      <td>RandomForestClassifier</td>\n",
              "      <td>3</td>\n",
              "      <td>0.88</td>\n",
              "    </tr>\n",
              "    <tr>\n",
              "      <th>0</th>\n",
              "      <td>Без удаления</td>\n",
              "      <td>20</td>\n",
              "      <td>0.86</td>\n",
              "    </tr>\n",
              "  </tbody>\n",
              "</table>\n",
              "</div>"
            ],
            "text/plain": [
              "                             способ выбора признаков  количество признаков  \\\n",
              "6  RandomForestClassifier и SequentialFeatureSele...                    10   \n",
              "4                                 LogisticRegression                    14   \n",
              "2                                  VarianceThreshold                     6   \n",
              "1                                  по корреляции 0.2                     4   \n",
              "3                            SelectKBest и f_classif                     5   \n",
              "5                             RandomForestClassifier                     3   \n",
              "0                                       Без удаления                    20   \n",
              "\n",
              "  средняя точность модели  \n",
              "6                    0.92  \n",
              "4                    0.90  \n",
              "2                    0.89  \n",
              "1                    0.88  \n",
              "3                    0.88  \n",
              "5                    0.88  \n",
              "0                    0.86  "
            ]
          },
          "execution_count": 834,
          "metadata": {},
          "output_type": "execute_result"
        }
      ],
      "source": [
        "pd.DataFrame(report, columns=['способ выбора признаков', 'количество признаков', 'средняя точность модели']).sort_values('средняя точность модели', ascending=False)"
      ]
    },
    {
      "cell_type": "markdown",
      "metadata": {},
      "source": [
        "### Вывод\n",
        "\n",
        "+ при удалении практически половины признаков точность составила `92%` при использовании метода `RandomForestClassifier и SequentialFeatureSelector`\n",
        "+ но так же есть методы, которые при сохранении от `4` до `6` точность приближается к `90%` процентам\n",
        "+ важно использовать разные методы, в зависимости от задачи"
      ]
    }
  ],
  "metadata": {
    "colab": {
      "collapsed_sections": [],
      "provenance": [],
      "toc_visible": true
    },
    "kernelspec": {
      "display_name": "Python 3",
      "language": "python",
      "name": "python3"
    },
    "language_info": {
      "codemirror_mode": {
        "name": "ipython",
        "version": 3
      },
      "file_extension": ".py",
      "mimetype": "text/x-python",
      "name": "python",
      "nbconvert_exporter": "python",
      "pygments_lexer": "ipython3",
      "version": "3.10.11"
    }
  },
  "nbformat": 4,
  "nbformat_minor": 0
}
