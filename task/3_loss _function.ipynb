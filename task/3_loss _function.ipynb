{
 "cells": [
  {
   "cell_type": "code",
   "execution_count": 488,
   "metadata": {},
   "outputs": [],
   "source": [
    "# импорт библиотек\n",
    "import numpy as np\n",
    "import pandas as pd \n",
    "import matplotlib.pyplot as plt  \n",
    "import seaborn as sns\n",
    "%matplotlib inline\n",
    "import warnings\n",
    "warnings.filterwarnings(\"ignore\", \"is_categorical_dtype\")\n",
    "warnings.filterwarnings(\"ignore\", \"use_inf_as_na\")\n",
    "from sklearn import datasets\n",
    "from sklearn.linear_model import LogisticRegression\n",
    "iris = datasets.load_iris()"
   ]
  },
  {
   "cell_type": "markdown",
   "metadata": {},
   "source": [
    "## 3 Функции потерь и оптимизация\n",
    "* подготовка данных\n",
    "    * загрузка данных `iris`\n",
    "    * В данных оставьте только 2 класса: Iris `Versicolor`, `Iris Virginica`.\n"
   ]
  },
  {
   "cell_type": "markdown",
   "metadata": {},
   "source": [
    "### Загрузка данных и преобразование в `DataFrame`\n",
    "* оставляем только `Versicolor`, `Iris Virginica`\n",
    "* разделяем та тестовую и тренировочную выборку `20 / 80`"
   ]
  },
  {
   "cell_type": "code",
   "execution_count": 489,
   "metadata": {},
   "outputs": [],
   "source": [
    "# Загружаем датасет с ирисами\n",
    "iris = datasets.load_iris()\n",
    "df = pd.DataFrame(iris.data, columns=iris.feature_names)\n",
    "df['target'] = iris.target\n",
    "\n",
    "# Фильтруем данные, оставляя только два класса: Versicolor и Virginica\n",
    "df = df[df['target'].isin([1, 2])]\n",
    "# Переименовываем колонки для удобства\n",
    "df = df.rename(columns={\n",
    "    'sepal length (cm)': 'sepal_length',\n",
    "    'sepal width (cm)': 'sepal_width',\n",
    "    'petal length (cm)': 'petal_length',\n",
    "    'petal width (cm)': 'petal_width'\n",
    "})\n",
    "# Получаем данные для признаков (X) и целевой переменной (y)\n",
    "df_X, df_y = df[['sepal_length', 'sepal_width', 'petal_length', 'petal_width']], df['target']"
   ]
  },
  {
   "cell_type": "code",
   "execution_count": 490,
   "metadata": {},
   "outputs": [
    {
     "data": {
      "text/plain": [
       "target\n",
       "1    50\n",
       "2    50\n",
       "Name: count, dtype: int64"
      ]
     },
     "execution_count": 490,
     "metadata": {},
     "output_type": "execute_result"
    }
   ],
   "source": [
    "df['target'].value_counts()"
   ]
  },
  {
   "cell_type": "code",
   "execution_count": 491,
   "metadata": {},
   "outputs": [],
   "source": [
    "df_X, df_y = df[['sepal_length', 'sepal_width', 'petal_length', 'petal_width']], df['target']"
   ]
  },
  {
   "cell_type": "markdown",
   "metadata": {},
   "source": [
    "#### Стандартизация данных `x` должен оказаться в `0` `y` в 1"
   ]
  },
  {
   "cell_type": "code",
   "execution_count": 525,
   "metadata": {},
   "outputs": [
    {
     "data": {
      "text/plain": [
       "((80, 4), (80,))"
      ]
     },
     "execution_count": 525,
     "metadata": {},
     "output_type": "execute_result"
    }
   ],
   "source": [
    "from sklearn. model_selection import train_test_split\n",
    "X_train, X_test, y_train, y_test = train_test_split(df_X, df_y, test_size=0.2, random_state=42)\n",
    "X_train.shape , y_train.shape"
   ]
  },
  {
   "cell_type": "code",
   "execution_count": 526,
   "metadata": {},
   "outputs": [],
   "source": [
    "from sklearn.preprocessing import StandardScaler\n",
    "sc = StandardScaler()\n",
    "X_train = sc.fit_transform(X_train)\n",
    "X_test = sc.transform(X_test)"
   ]
  },
  {
   "cell_type": "markdown",
   "metadata": {},
   "source": [
    "### `LogisticRegression` без библиотеки"
   ]
  },
  {
   "cell_type": "code",
   "execution_count": 541,
   "metadata": {},
   "outputs": [
    {
     "name": "stdout",
     "output_type": "stream",
     "text": [
      "Iteration 0: Cost 0.6931471805599453\n",
      "Iteration 100: Cost 0.5529628332271666\n",
      "Iteration 200: Cost 0.422281317782116\n",
      "Iteration 300: Cost 0.30001799230527515\n",
      "Iteration 400: Cost 0.18513793768447992\n",
      "Iteration 500: Cost 0.07669983673686827\n",
      "Iteration 600: Cost -0.026127092799949226\n",
      "Iteration 700: Cost -0.12406299318627438\n",
      "Iteration 800: Cost -0.21772603755166814\n",
      "Iteration 900: Cost -0.30764462758637157\n",
      "Iteration 0: Cost 0.6931471805599453\n",
      "Iteration 100: Cost 0.5842214577742839\n",
      "Iteration 200: Cost 0.5107988570412753\n",
      "Iteration 300: Cost 0.45322277779240794\n",
      "Iteration 400: Cost 0.40480882545861674\n",
      "Iteration 500: Cost 0.36422027777815574\n",
      "Iteration 600: Cost 0.330160882554304\n",
      "Iteration 700: Cost 0.30121612882307686\n",
      "Iteration 800: Cost 0.27544048259853326\n",
      "Iteration 900: Cost 0.25235394835035674\n",
      "Iteration 0: Cost 0.6931471805599453\n",
      "Iteration 100: Cost 0.01828898977603686\n",
      "Iteration 200: Cost 0.014767335265960569\n",
      "Iteration 300: Cost 0.01304152272052761\n",
      "Iteration 400: Cost 0.011961695941376239\n",
      "Iteration 500: Cost 0.015384872891864187\n",
      "Iteration 600: Cost 0.03726340003577242\n",
      "Iteration 700: Cost 0.05732918548057801\n",
      "Iteration 800: Cost 0.07600518216117384\n",
      "Iteration 900: Cost 0.09357817519527281\n"
     ]
    },
    {
     "data": {
      "text/html": [
       "<div>\n",
       "<style scoped>\n",
       "    .dataframe tbody tr th:only-of-type {\n",
       "        vertical-align: middle;\n",
       "    }\n",
       "\n",
       "    .dataframe tbody tr th {\n",
       "        vertical-align: top;\n",
       "    }\n",
       "\n",
       "    .dataframe thead th {\n",
       "        text-align: right;\n",
       "    }\n",
       "</style>\n",
       "<table border=\"1\" class=\"dataframe\">\n",
       "  <thead>\n",
       "    <tr style=\"text-align: right;\">\n",
       "      <th></th>\n",
       "      <th>Метод</th>\n",
       "      <th>Метрика</th>\n",
       "      <th>Время работы</th>\n",
       "      <th>learning_rate</th>\n",
       "      <th>epoch</th>\n",
       "    </tr>\n",
       "  </thead>\n",
       "  <tbody>\n",
       "    <tr>\n",
       "      <th>0</th>\n",
       "      <td>Без оптимизации</td>\n",
       "      <td>0.35</td>\n",
       "      <td>0.859640</td>\n",
       "      <td>0.001</td>\n",
       "      <td>1000</td>\n",
       "    </tr>\n",
       "    <tr>\n",
       "      <th>1</th>\n",
       "      <td>С RMSProp</td>\n",
       "      <td>0.15</td>\n",
       "      <td>0.843041</td>\n",
       "      <td>0.001</td>\n",
       "      <td>1000</td>\n",
       "    </tr>\n",
       "    <tr>\n",
       "      <th>2</th>\n",
       "      <td>С Nadam</td>\n",
       "      <td>0.05</td>\n",
       "      <td>0.860637</td>\n",
       "      <td>0.001</td>\n",
       "      <td>1000</td>\n",
       "    </tr>\n",
       "  </tbody>\n",
       "</table>\n",
       "</div>"
      ],
      "text/plain": [
       "             Метод  Метрика  Время работы  learning_rate  epoch\n",
       "0  Без оптимизации     0.35      0.859640          0.001   1000\n",
       "1        С RMSProp     0.15      0.843041          0.001   1000\n",
       "2          С Nadam     0.05      0.860637          0.001   1000"
      ]
     },
     "execution_count": 541,
     "metadata": {},
     "output_type": "execute_result"
    }
   ],
   "source": [
    "from sklearn.metrics import accuracy_score # доля правильных \n",
    "import time \n",
    "\n",
    "class LogisticRegressionWithOutLib:\n",
    "    def __init__(self, learning_rate, epoch, optimizer=None):\n",
    "        \"\"\"\n",
    "        Инициализация логистической регрессии.\n",
    "\n",
    "        Параметры:\n",
    "        - learning_rate (float): Скорость обучения (learning rate).\n",
    "        - epoch (int): Количество итераций градиентного спуска.\n",
    "        - optimizer (str): Метод оптимизации: None (без оптимизации), 'RMSProp' или 'Nadam'.\n",
    "        \"\"\"\n",
    "        self.learning_rate = learning_rate\n",
    "        self.epoch = epoch\n",
    "        self.optimizer = optimizer\n",
    "        self.weights = None\n",
    "        self.bias = None\n",
    "        self.gradient_sq = None\n",
    "        self.mu = None\n",
    "\n",
    "        # Parameters for RMSProp\n",
    "        self.beta = 0.9\n",
    "        self.epsilon = 1e-7\n",
    "\n",
    "        # Parameters for Nadam\n",
    "        self.beta1 = 0.9\n",
    "        self.beta2 = 0.999\n",
    "\n",
    "    def sigmoid(self, z):\n",
    "        # Сигмоидная функция активации\n",
    "        return 1 / (1 + np.exp(-z))\n",
    "\n",
    "    def initialize_parameters(self, num_features):\n",
    "        # Инициализация весов и смещения модели\n",
    "        self.weights = np.zeros(num_features)\n",
    "        self.bias = 0\n",
    "        self.gradient_sq = np.zeros(num_features)\n",
    "        self.mu = np.zeros(num_features)\n",
    "\n",
    "    def compute_cost(self, y, y_pred):\n",
    "        # Add epsilon to prevent divide by zero and log of zero\n",
    "        epsilon = 1e-15\n",
    "        y_pred = np.clip(y_pred, epsilon, 1 - epsilon)\n",
    "        \n",
    "        # Compute the log loss\n",
    "        return -np.mean(y * np.log(y_pred) + (1 - y) * np.log(1 - y_pred))\n",
    "\n",
    "    def rmsprop_update(self, dw):\n",
    "        # Обновление параметров с использованием метода RMSProp\n",
    "        self.gradient_sq = self.beta * self.gradient_sq + (1 - self.beta) * dw**2\n",
    "        self.weights -= (self.learning_rate / (np.sqrt(self.gradient_sq) + self.epsilon)) * dw\n",
    "\n",
    "    def nadam_update(self, dw):\n",
    "    # Обновление параметров с использованием метода Nadam\n",
    "        self.mu = self.beta1 * self.mu + (1 - self.beta1) * dw\n",
    "        self.gradient_sq = self.beta2 * self.gradient_sq + (1 - self.beta2) * dw**2\n",
    "        mu_hat = self.mu / (1 - self.beta1)\n",
    "        grad_hat = dw / (1 - self.beta2)\n",
    "        self.weights -= self.learning_rate * (mu_hat / (np.sqrt(self.gradient_sq) + self.epsilon) + self.beta1 * grad_hat / (1 - self.beta1))\n",
    "\n",
    "    def gradient_descent(self, X, y):\n",
    "        num_samples, num_features = X.shape\n",
    "        self.initialize_parameters(num_features)\n",
    "\n",
    "        for _ in range(self.epoch):\n",
    "            linear_model = np.dot(X, self.weights) + self.bias\n",
    "            y_pred = self.sigmoid(linear_model)\n",
    "\n",
    "            # Заменяем значения y_pred, чтобы избежать точного совпадения с 0 или 1\n",
    "            epsilon = 1e-15\n",
    "            y_pred = np.clip(y_pred, epsilon, 1 - epsilon)\n",
    "\n",
    "            cost = self.compute_cost(y, y_pred)\n",
    "\n",
    "            dw = (1 / num_samples) * np.dot(X.T, (y_pred - y))\n",
    "            db = (1 / num_samples) * np.sum(y_pred - y)\n",
    "\n",
    "            if self.optimizer == 'RMSProp':\n",
    "                self.rmsprop_update(dw)\n",
    "            elif self.optimizer == 'Nadam':\n",
    "                self.nadam_update(dw)\n",
    "            else:\n",
    "                self.weights -= self.learning_rate * dw\n",
    "                self.bias -= self.learning_rate * db\n",
    "\n",
    "            # Дополнительно выводим значение стоимости на каждой итерации\n",
    "            if _ % 100 == 0:\n",
    "                print(f\"Iteration {_}: Cost {cost}\")\n",
    "\n",
    "    def fit(self, X, y):\n",
    "        # Обучение модели\n",
    "        self.gradient_descent(X, y)\n",
    "\n",
    "    def predict(self, X):\n",
    "        # Предсказание классов для новых данных\n",
    "        linear_model = np.dot(X, self.weights) + self.bias\n",
    "        y_pred = self.sigmoid(linear_model)\n",
    "        y_pred_cls = [1 if i > 0.5 else 0 for i in y_pred]\n",
    "        return y_pred_cls\n",
    "\n",
    "def comparison_different_method(\n",
    "        X_train, X_test, y_train, y_test,\n",
    "        learning_rate = 1, epoch= 100\n",
    "        ):\n",
    "    # Create models, one without optimization and two with optimization (RMSProp and Nadam)\n",
    "    results_df = None\n",
    "    for model, method_name in [\n",
    "        (LogisticRegressionWithOutLib(\n",
    "            learning_rate=learning_rate,\n",
    "            epoch=epoch,\n",
    "            optimizer=None),\n",
    "            \"Без оптимизации\"),\n",
    "        (LogisticRegressionWithOutLib(\n",
    "            learning_rate=learning_rate,\n",
    "            epoch=epoch,\n",
    "            optimizer='RMSProp'),\n",
    "            \"С RMSProp\"),\n",
    "        (LogisticRegressionWithOutLib(\n",
    "            learning_rate=learning_rate,\n",
    "            epoch=epoch,\n",
    "            optimizer='Nadam'),\n",
    "            \"С Nadam\")]:\n",
    "\n",
    "        start_time = time.time()\n",
    "        model.fit(X_train, y_train)\n",
    "        y_pred = model.predict(X_test)\n",
    "        accuracy = accuracy_score(y_test, y_pred)\n",
    "        end_time = time.time()\n",
    "        execution_time = end_time - start_time\n",
    "\n",
    "        # Create a DataFrame for the current result\n",
    "        result_df = pd.DataFrame([\n",
    "            [method_name, accuracy, execution_time, learning_rate, epoch]],\n",
    "            columns=[\"Метод\", \"Метрика\", \"Время работы\", \"learning_rate\", \"epoch\"])\n",
    "\n",
    "        # Concatenate the current result DataFrame with the results_df\n",
    "        results_df = pd.concat([results_df, result_df], ignore_index=True)\n",
    "\n",
    "    return results_df\n",
    "\n",
    "results_df = comparison_different_method(\n",
    "    X_train, X_test, y_train, y_test, 0.001, 1000)\n",
    "results_df"
   ]
  },
  {
   "cell_type": "code",
   "execution_count": 533,
   "metadata": {},
   "outputs": [
    {
     "name": "stdout",
     "output_type": "stream",
     "text": [
      "Точность на тестовом наборе: 0.8\n"
     ]
    }
   ],
   "source": [
    "from sklearn.linear_model import LogisticRegression\n",
    "\n",
    "logistic_regression = LogisticRegression()\n",
    "logistic_regression.fit(X_train, y_train)\n",
    "test_accuracy = logistic_regression.score(X_test, y_test)\n",
    "print(\"Точность на тестовом наборе:\", test_accuracy)\n"
   ]
  },
  {
   "cell_type": "markdown",
   "metadata": {},
   "source": [
    "$$Accuracy=\\frac{Общее\\ количество\\ предсказаний}{Количество\\  правильных\\  предсказаний}$$\n"
   ]
  }
 ],
 "metadata": {
  "kernelspec": {
   "display_name": ".venv",
   "language": "python",
   "name": "python3"
  },
  "language_info": {
   "codemirror_mode": {
    "name": "ipython",
    "version": 3
   },
   "file_extension": ".py",
   "mimetype": "text/x-python",
   "name": "python",
   "nbconvert_exporter": "python",
   "pygments_lexer": "ipython3",
   "version": "3.10.11"
  },
  "orig_nbformat": 4
 },
 "nbformat": 4,
 "nbformat_minor": 2
}
