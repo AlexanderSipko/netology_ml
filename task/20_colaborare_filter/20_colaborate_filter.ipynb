{
  "cells": [
    {
      "cell_type": "markdown",
      "metadata": {},
      "source": [
        "# Коллаборативная фильтрация"
      ]
    },
    {
      "cell_type": "code",
      "execution_count": 49,
      "metadata": {},
      "outputs": [],
      "source": [
        "from surprise import Dataset, Reader, SVD, KNNWithMeans, KNNBasic\n",
        "from surprise.model_selection import cross_validate, train_test_split\n",
        "import pandas as pd\n",
        "import numpy as np\n",
        "\n",
        "movies = pd.read_csv('../../src/MovieLens/movies.csv')\n",
        "ratings = pd.read_csv('../../src/MovieLens/ratings.csv')"
      ]
    },
    {
      "cell_type": "markdown",
      "metadata": {},
      "source": [
        "## функция для рекомендации на основе модели"
      ]
    },
    {
      "cell_type": "code",
      "execution_count": null,
      "metadata": {},
      "outputs": [],
      "source": [
        "# функция рекомендации фильмов\n",
        "def generate_recommendations(uid, model, dataset, amount=5, random_order=True):\n",
        "    all_iids = dataset['iid'].unique()\n",
        "    iids_user_seen = dataset[dataset['uid'] == uid]['iid'].values\n",
        "    iids_to_predict = np.setdiff1d(all_iids, iids_user_seen)\n",
        "\n",
        "    predictions = []\n",
        "    for iid in iids_to_predict:\n",
        "        prediction = model.predict(uid, iid)\n",
        "        predictions.append((iid, prediction.est))\n",
        "    predictions.sort(key=lambda x: x[1], reverse=True)\n",
        "\n",
        "    if random_order:\n",
        "        np.random.shuffle(predictions)\n",
        "    return sorted(predictions[:amount], key=lambda x: x[1], reverse=True)"
      ]
    },
    {
      "cell_type": "markdown",
      "metadata": {},
      "source": [
        "## Подготовка данных"
      ]
    },
    {
      "cell_type": "code",
      "execution_count": 50,
      "metadata": {},
      "outputs": [],
      "source": [
        "# массив для рекомендательной системы\n",
        "ratings.head()\n",
        "movies_with_ratings = movies.merge(ratings, on='movieId').reset_index(drop=True)\n",
        "movies_with_ratings.dropna(inplace=True)\n",
        "movies_with_ratings.head()\n",
        "\n",
        "dataset = pd.DataFrame({\n",
        "    'uid': movies_with_ratings.userId,\n",
        "    'iid': movies_with_ratings.title,\n",
        "    'rating': movies_with_ratings.rating\n",
        "})\n",
        "\n",
        "dataset.head()\n",
        "f\"минимальный рейтинг: {ratings.rating.min()}, максимальный рейтинг: {ratings.rating.max()}\"\n",
        "f\"минимальный рейтинг: {ratings.rating.min()}, максимальный рейтинг: {ratings.rating.max()}\"\n",
        "reader = Reader(rating_scale=(0.5, 5.0))\n",
        "data = Dataset.load_from_df(dataset, reader)\n",
        "\n",
        "f\"минимальный рейтинг: {ratings.rating.min()}, максимальный рейтинг: {ratings.rating.max()}\"\n",
        "trainset, testset = train_test_split(data, test_size=0.2, random_state=1)"
      ]
    },
    {
      "cell_type": "markdown",
      "metadata": {},
      "source": [
        "## модель `KNNWithMeans`"
      ]
    },
    {
      "cell_type": "code",
      "execution_count": 110,
      "metadata": {},
      "outputs": [
        {
          "name": "stdout",
          "output_type": "stream",
          "text": [
            "Computing the cosine similarity matrix...\n",
            "Done computing similarity matrix.\n",
            "Computing the cosine similarity matrix...\n",
            "Done computing similarity matrix.\n",
            "Computing the cosine similarity matrix...\n",
            "Done computing similarity matrix.\n",
            "Computing the cosine similarity matrix...\n",
            "Done computing similarity matrix.\n",
            "Computing the cosine similarity matrix...\n",
            "Done computing similarity matrix.\n",
            "Computing the cosine similarity matrix...\n",
            "Done computing similarity matrix.\n",
            "Computing the cosine similarity matrix...\n",
            "Done computing similarity matrix.\n",
            "Evaluating RMSE of algorithm KNNWithMeans on 5 split(s).\n",
            "\n",
            "                  Fold 1  Fold 2  Fold 3  Fold 4  Fold 5  Mean    Std     \n",
            "RMSE (testset)    0.9046  0.9032  0.9088  0.8945  0.8933  0.9009  0.0060  \n",
            "Fit time          0.31    0.33    0.32    0.30    0.30    0.31    0.01    \n",
            "Test time         0.80    0.72    0.76    0.72    0.77    0.75    0.03    \n",
            "Mean RMSE для модели user-based: 0.9008665711082694\n"
          ]
        }
      ],
      "source": [
        "def fit_recommend_system(trainset):\n",
        "    algo_user_based = KNNWithMeans(k=50, sim_options={\n",
        "        'name': 'cosine',\n",
        "        'user_based': True  # compute similarities between users\n",
        "    })\n",
        "\n",
        "    algo_user_based.fit(trainset)\n",
        "\n",
        "    algo_not_user_based = KNNWithMeans(k=50, sim_options={\n",
        "        'name': 'cosine',\n",
        "        'user_based': False  # compute similarities between users\n",
        "    })\n",
        "\n",
        "    algo_not_user_based.fit(trainset)\n",
        "    return  algo_user_based, algo_not_user_based\n",
        "\n",
        "algo_user_based, algo_not_user_based = fit_recommend_system(trainset)\n",
        "\n",
        "# Кросс-валидация с 5 фолдами\n",
        "cv_results_user = cross_validate(algo_user_based, data, measures=['RMSE'], cv=5, verbose=True)\n",
        "print(\"Mean RMSE для модели user-based:\", cv_results_user['test_rmse'].mean())"
      ]
    },
    {
      "cell_type": "code",
      "execution_count": 111,
      "metadata": {},
      "outputs": [
        {
          "name": "stdout",
          "output_type": "stream",
          "text": [
            "Computing the cosine similarity matrix...\n",
            "Done computing similarity matrix.\n",
            "Computing the cosine similarity matrix...\n",
            "Done computing similarity matrix.\n",
            "Computing the cosine similarity matrix...\n",
            "Done computing similarity matrix.\n",
            "Computing the cosine similarity matrix...\n",
            "Done computing similarity matrix.\n",
            "Computing the cosine similarity matrix...\n",
            "Done computing similarity matrix.\n",
            "Evaluating RMSE of algorithm KNNWithMeans on 5 split(s).\n",
            "\n",
            "                  Fold 1  Fold 2  Fold 3  Fold 4  Fold 5  Mean    Std     \n",
            "RMSE (testset)    0.9121  0.9053  0.8962  0.9021  0.8997  0.9031  0.0054  \n",
            "Fit time          5.62    6.05    5.71    5.59    5.82    5.76    0.17    \n",
            "Test time         4.49    4.80    4.79    4.89    4.50    4.69    0.17    \n",
            "Mean RMSE для модели not-user:-based 0.903078525644435\n"
          ]
        }
      ],
      "source": [
        "cv_results_not_user = cross_validate(algo_not_user_based, data, measures=['RMSE'], cv=5, verbose=True)\n",
        "print(\"Mean RMSE для модели not-user:-based\", cv_results_not_user['test_rmse'].mean())"
      ]
    },
    {
      "cell_type": "code",
      "execution_count": 112,
      "metadata": {},
      "outputs": [
        {
          "name": "stdout",
          "output_type": "stream",
          "text": [
            "Рекомендации (user-based) uid:{uid_to_recommend}\n",
            "1. Vanishing, The (Spoorloos) (1988)                  ***   3.8\n",
            "2. Little Miss Marker (1980)                          ***   3.5\n",
            "3. Bolt (2008)                                        ***   3.4\n",
            "4. 8 ½ Women (a.k.a. 8 1/2 Women) (a.k.a. Eight and a Half Women) (1999) ***   3.4\n",
            "5. Crooklyn (1994)                                    **    2.2\n",
            "Рекомендации (not_user-based) uid:{uid_to_recommend}\n",
            "1. Night of the Creeps (1986)                         ***   3.7\n",
            "2. Harrison Bergeron (1995)                           ***   3.5\n",
            "3. Dark Star (1974)                                   ***   3.5\n",
            "4. Backbeat (1993)                                    ***   3.3\n",
            "5. Amityville 3-D (1983)                                    0.7\n"
          ]
        }
      ],
      "source": [
        "# Вывод рекомендаций в случайном порядке\n",
        "\n",
        "uid_to_recommend = 5\n",
        "recommendations_user_based = generate_recommendations(uid_to_recommend, algo_user_based, dataset)\n",
        "\n",
        "print(\"Рекомендации (user-based) uid:{uid_to_recommend}\")\n",
        "for i, film in enumerate(recommendations_user_based, 1):\n",
        "    print(f\"{i}. {film[0]:<50} {'*' * int(film[1]):<5} {film[1]:.1f}\")\n",
        "    \n",
        "recommendations_not_user_based = generate_recommendations(uid_to_recommend, algo_not_user_based, dataset)\n",
        "print(\"Рекомендации (not_user-based) uid:{uid_to_recommend}\")\n",
        "for i, film in enumerate(recommendations_not_user_based, 1):\n",
        "    print(f\"{i}. {film[0]:<50} {'*' * int(film[1]):<5} {film[1]:.1f}\")"
      ]
    },
    {
      "cell_type": "markdown",
      "metadata": {},
      "source": [
        "## `SVD` модель"
      ]
    },
    {
      "cell_type": "code",
      "execution_count": 138,
      "metadata": {},
      "outputs": [
        {
          "name": "stdout",
          "output_type": "stream",
          "text": [
            "Evaluating RMSE of algorithm SVD on 5 split(s).\n",
            "\n",
            "                  Fold 1  Fold 2  Fold 3  Fold 4  Fold 5  Mean    Std     \n",
            "RMSE (testset)    0.8746  0.8746  0.8644  0.8844  0.8648  0.8726  0.0074  \n",
            "Fit time          0.72    0.77    0.76    0.74    0.75    0.75    0.02    \n",
            "Test time         0.07    0.07    0.07    0.23    0.07    0.10    0.07    \n",
            "Mean RMSE для модели SVD:\n",
            "rmse SVD: 0.87\n",
            "Рекомендации svd uid:{uid_to_recommend}\n",
            "1. Neo Tokyo (1987)                                   ***   3.5\n",
            "2. Valentine's Day (2010)                             ***   3.4\n",
            "3. Party, The (Boum, La) (1980)                       ***   3.4\n",
            "4. Must Love Dogs (2005)                              ***   3.2\n",
            "5. Tomcats (2001)                                     **    3.0\n"
          ]
        }
      ],
      "source": [
        "def fit_recommend_system_SVD(trainset):\n",
        "    model_svd = SVD()\n",
        "    model_svd.fit(trainset)\n",
        "    return model_svd\n",
        "\n",
        "model_svd = fit_recommend_system_SVD(trainset)\n",
        "# Кросс-валидация с 5 фолдами для обеих моделей\n",
        "svd_result = cross_validate(model_svd, data, measures=['RMSE'], cv=5, verbose=True)\n",
        "print(\"Mean RMSE для модели SVD:\")\n",
        "print(f\"rmse SVD: {svd_result['test_rmse'].mean():.2f}\")\n",
        "\n",
        "uid_to_recommend = 5\n",
        "recommendations_SVD = generate_recommendations(uid_to_recommend, model_svd, dataset)\n",
        "\n",
        "print(\"Рекомендации svd uid:{uid_to_recommend}\")\n",
        "for i, film in enumerate(recommendations_SVD, 1):\n",
        "    print(f\"{i}. {film[0]:<50} {'*' * int(film[1]):<5} {film[1]:.1f}\")"
      ]
    },
    {
      "cell_type": "markdown",
      "metadata": {},
      "source": [
        "## `CoClustering` модель"
      ]
    },
    {
      "cell_type": "code",
      "execution_count": 127,
      "metadata": {},
      "outputs": [
        {
          "name": "stdout",
          "output_type": "stream",
          "text": [
            "Evaluating RMSE of algorithm CoClustering on 5 split(s).\n",
            "\n",
            "                  Fold 1  Fold 2  Fold 3  Fold 4  Fold 5  Mean    Std     \n",
            "RMSE (testset)    0.9407  0.9461  0.9425  0.9486  0.9451  0.9446  0.0028  \n",
            "Fit time          1.81    1.89    1.78    1.82    1.89    1.84    0.05    \n",
            "Test time         0.05    0.05    0.05    0.22    0.05    0.08    0.07    \n",
            "Mean RMSE для модели CoClustering:\n",
            "rmse CoClustering: 0.94\n",
            "Рекомендации coclustering uid:{uid_to_recommend}\n",
            "1. Ghost Graduation (2012)                            ***** 5.0\n",
            "2. Tie Me Up! Tie Me Down! (¡Átame!) (1990)           ***   3.6\n",
            "3. We're Back! A Dinosaur's Story (1993)              ***   3.4\n",
            "4. Hotel Transylvania 2 (2015)                        ***   3.1\n",
            "5. Hostel: Part II (2007)                             **    3.0\n"
          ]
        }
      ],
      "source": [
        "from surprise import CoClustering\n",
        "def fit_recommend_system_CoClustering(trainset):\n",
        "    model_coclustering = CoClustering()\n",
        "    model_coclustering.fit(trainset)\n",
        "    return model_coclustering\n",
        "\n",
        "model_coclustering = fit_recommend_system_CoClustering(trainset)\n",
        "coclustering_result = cross_validate(model_coclustering, data, measures=['RMSE'], cv=5, verbose=True)\n",
        "\n",
        "print(\"Mean RMSE для модели CoClustering:\")\n",
        "print(f\"rmse CoClustering: {coclustering_result['test_rmse'].mean():.2f}\")\n",
        "\n",
        "uid_to_recommend = 5\n",
        "recommendations_coclustering = generate_recommendations(uid_to_recommend, model_coclustering, dataset)\n",
        "\n",
        "print(\"Рекомендации coclustering uid:{uid_to_recommend}\")\n",
        "for i, film in enumerate(recommendations_coclustering, 1):\n",
        "    print(f\"{i}. {film[0]:<50} {'*' * int(film[1]):<5} {film[1]:.1f}\")"
      ]
    },
    {
      "cell_type": "code",
      "execution_count": 131,
      "metadata": {},
      "outputs": [
        {
          "name": "stdout",
          "output_type": "stream",
          "text": [
            "Evaluating RMSE of algorithm NMF on 5 split(s).\n",
            "\n",
            "                  Fold 1  Fold 2  Fold 3  Fold 4  Fold 5  Mean    Std     \n",
            "RMSE (testset)    0.9233  0.9148  0.9141  0.9289  0.9246  0.9211  0.0058  \n",
            "Fit time          1.53    1.68    1.54    1.43    1.65    1.57    0.09    \n",
            "Test time         0.23    0.06    0.06    0.06    0.06    0.09    0.07    \n",
            "Mean RMSE для модели NMF:\n",
            "rmse NMF: 0.92\n"
          ]
        }
      ],
      "source": [
        "from surprise import NMF\n",
        "from surprise.model_selection import cross_validate\n",
        "\n",
        "def fit_recommend_system_NMF(trainset):\n",
        "    model_nmf = NMF()\n",
        "    model_nmf.fit(trainset)\n",
        "    return model_nmf\n",
        "\n",
        "model_nmf = fit_recommend_system_NMF(trainset)\n",
        "nmf_result = cross_validate(model_nmf, data, measures=['RMSE'], cv=5, verbose=True)\n",
        "\n",
        "print(\"Mean RMSE для модели NMF:\")\n",
        "print(f\"rmse NMF: {nmf_result['test_rmse'].mean():.2f}\")"
      ]
    },
    {
      "cell_type": "code",
      "execution_count": 152,
      "metadata": {},
      "outputs": [
        {
          "name": "stdout",
          "output_type": "stream",
          "text": [
            "Computing the msd similarity matrix...\n",
            "Done computing similarity matrix.\n",
            "Computing the msd similarity matrix...\n",
            "Done computing similarity matrix.\n",
            "Computing the msd similarity matrix...\n",
            "Done computing similarity matrix.\n",
            "Computing the msd similarity matrix...\n",
            "Done computing similarity matrix.\n",
            "Computing the msd similarity matrix...\n",
            "Done computing similarity matrix.\n",
            "Computing the msd similarity matrix...\n",
            "Done computing similarity matrix.\n",
            "Evaluating RMSE of algorithm KNNBasic on 5 split(s).\n",
            "\n",
            "                  Fold 1  Fold 2  Fold 3  Fold 4  Fold 5  Mean    Std     \n",
            "RMSE (testset)    0.9455  0.9409  0.9522  0.9504  0.9529  0.9484  0.0045  \n",
            "Fit time          0.12    0.13    0.13    0.13    0.13    0.13    0.00    \n",
            "Test time         0.87    0.65    0.65    0.65    0.64    0.69    0.09    \n",
            "Mean RMSE для модели KNNBasic:\n",
            "rmse KNNBasic: 0.95\n",
            "Рекомендации KNNBasic uid:{uid_to_recommend}\n",
            "1. Hustler, The (1961)                                ****  4.2\n",
            "2. On the Waterfront (1954)                           ****  4.2\n",
            "3. Spotlight (2015)                                   ****  4.1\n",
            "4. Cape Fear (1962)                                   ***   3.9\n",
            "5. Smurfs, The (2011)                                 *     1.8\n"
          ]
        }
      ],
      "source": [
        "from surprise import KNNBasic\n",
        "\n",
        "def fit_recommend_system_KNNBasic(trainset):\n",
        "    model_KNNBasic = KNNBasic()\n",
        "    model_KNNBasic.fit(trainset)\n",
        "    return model_KNNBasic\n",
        "\n",
        "model_KNNBasic = fit_recommend_system_KNNBasic(trainset)\n",
        "kNNBasic_result = cross_validate(model_KNNBasic, data, measures=['RMSE'], cv=5, verbose=True)\n",
        "print(\"Mean RMSE для модели KNNBasic:\")\n",
        "print(f\"rmse KNNBasic: {kNNBasic_result['test_rmse'].mean():.2f}\")\n",
        "\n",
        "uid_to_recommend = 5\n",
        "predictions = generate_recommendations(uid_to_recommend, model_KNNBasic, dataset)\n",
        "\n",
        "print(\"Рекомендации KNNBasic uid:{uid_to_recommend}\")\n",
        "for i, film in enumerate(predictions, 1):\n",
        "    print(f\"{i}. {film[0]:<50} {'*' * int(film[1]):<5} {film[1]:.1f}\")"
      ]
    },
    {
      "cell_type": "markdown",
      "metadata": {},
      "source": [
        "## Вывод\n",
        "\n",
        "+ для рекомендации фильмов использовалась библиотека `surprise`\n",
        "+ особенность коллаборативного подхода, в отсутсвии необходимости тщательной подготовки данных, но важно учитывать появление новых элементов которых не было в массиве\n",
        "+ использовал сведущие модели\n",
        "\n",
        "| Модель          | `RMSE` по 5 фолдам  | `>=0.87` | \n",
        "|-----------------|-------------------|--|\n",
        "| `KNNWithMeans`    | `0.90`              |  |\n",
        "| `SVD`             | `0.87`              | ✓ |\n",
        "| `CoClustering`    | `0.94`              |  |\n",
        "| `NMF`             | `0.92`              |  |\n",
        "| `KNNBasic`        | `0.95 `             |  |\n",
        "\n",
        "+ самый лучший `RMSE` у модели `SVD` для данного набора данных (попытка изменить параметры в целом не позволила повысить результат)\n",
        "+ пример рекомендации фильмов для пользователя на основании модели \n",
        "\n",
        "| #  | фильм    | рейтинг `*` | рейтинг `float` | \n",
        "|----|------------------------------|-----|-----| \n",
        "| 1. | Neo Tokyo (1987)              | *** | 3.5 | \n",
        "| 2. | Valentine's Day (2010)        | *** | 3.4 | \n",
        "| 3. | Party, The (Boum, La) (1980)  | *** | 3.4 | \n",
        "| 4. | Must Love Dogs (2005)         | *** | 3.2 | \n",
        "| 5. | Tomcats (2001)                | ** | 3.0 |\n"
      ]
    }
  ],
  "metadata": {
    "colab": {
      "collapsed_sections": [],
      "provenance": [],
      "toc_visible": true
    },
    "kernelspec": {
      "display_name": "Python 3",
      "language": "python",
      "name": "python3"
    },
    "language_info": {
      "codemirror_mode": {
        "name": "ipython",
        "version": 3
      },
      "file_extension": ".py",
      "mimetype": "text/x-python",
      "name": "python",
      "nbconvert_exporter": "python",
      "pygments_lexer": "ipython3",
      "version": "3.10.11"
    }
  },
  "nbformat": 4,
  "nbformat_minor": 0
}
